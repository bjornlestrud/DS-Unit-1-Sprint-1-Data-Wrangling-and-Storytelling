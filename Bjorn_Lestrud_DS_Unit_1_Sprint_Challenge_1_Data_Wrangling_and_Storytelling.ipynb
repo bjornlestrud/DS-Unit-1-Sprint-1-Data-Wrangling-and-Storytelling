{
  "nbformat": 4,
  "nbformat_minor": 0,
  "metadata": {
    "colab": {
      "name": "Bjorn_Lestrud_DS_Unit_1_Sprint_Challenge_1_Data_Wrangling_and_Storytelling.ipynb",
      "provenance": [],
      "collapsed_sections": [],
      "include_colab_link": true
    },
    "kernelspec": {
      "name": "python3",
      "display_name": "Python 3"
    }
  },
  "cells": [
    {
      "cell_type": "markdown",
      "metadata": {
        "id": "view-in-github",
        "colab_type": "text"
      },
      "source": [
        "<a href=\"https://colab.research.google.com/github/goldenbear7/DS-Unit-1-Sprint-1-Data-Wrangling-and-Storytelling/blob/master/Bjorn_Lestrud_DS_Unit_1_Sprint_Challenge_1_Data_Wrangling_and_Storytelling.ipynb\" target=\"_parent\"><img src=\"https://colab.research.google.com/assets/colab-badge.svg\" alt=\"Open In Colab\"/></a>"
      ]
    },
    {
      "cell_type": "markdown",
      "metadata": {
        "id": "2kYJKHpXFbN2",
        "colab_type": "text"
      },
      "source": [
        "# Data Science Unit 1 Sprint Challenge 1\n",
        "\n",
        "## Data Wrangling and Storytelling\n",
        "\n",
        "Taming data from its raw form into informative insights and stories."
      ]
    },
    {
      "cell_type": "markdown",
      "metadata": {
        "id": "qSvL3CeTFk9F",
        "colab_type": "text"
      },
      "source": [
        "## Data Wrangling\n",
        "\n",
        "In this Sprint Challenge you will first \"wrangle\" some data from [Gapminder](https://www.gapminder.org/about-gapminder/), a Swedish non-profit co-founded by Hans Rosling. \"Gapminder produces free teaching resources making the world understandable based on reliable statistics.\"\n",
        "- [Cell phones (total), by country and year](https://raw.githubusercontent.com/open-numbers/ddf--gapminder--systema_globalis/master/ddf--datapoints--cell_phones_total--by--geo--time.csv)\n",
        "- [Population (total), by country and year](https://raw.githubusercontent.com/open-numbers/ddf--gapminder--systema_globalis/master/ddf--datapoints--population_total--by--geo--time.csv)\n",
        "- [Geo country codes](https://github.com/open-numbers/ddf--gapminder--systema_globalis/blob/master/ddf--entities--geo--country.csv)\n",
        "\n",
        "These two links have everything you need to successfully complete the first part of this sprint challenge.\n",
        "- [Pandas documentation: Working with Text Data](https://pandas.pydata.org/pandas-docs/stable/text.html) (one question)\n",
        "- [Pandas Cheat Sheet](https://github.com/pandas-dev/pandas/blob/master/doc/cheatsheet/Pandas_Cheat_Sheet.pdf) (everything else)"
      ]
    },
    {
      "cell_type": "markdown",
      "metadata": {
        "id": "_45iUXguF3cJ",
        "colab_type": "text"
      },
      "source": [
        "### Part 1 - Load and Explore the Data\n",
        "\n",
        "Run the cell below to load the datasets into three dataframes and then follow the instructions below\n"
      ]
    },
    {
      "cell_type": "code",
      "metadata": {
        "id": "4OuxHNZzFpGT",
        "colab_type": "code",
        "colab": {}
      },
      "source": [
        "import pandas as pd\n",
        "\n",
        "cell_phones = pd.read_csv('https://raw.githubusercontent.com/open-numbers/ddf--gapminder--systema_globalis/master/ddf--datapoints--cell_phones_total--by--geo--time.csv')\n",
        "\n",
        "population = pd.read_csv('https://raw.githubusercontent.com/open-numbers/ddf--gapminder--systema_globalis/master/ddf--datapoints--population_total--by--geo--time.csv')\n",
        "\n",
        "geo_country_codes = (pd.read_csv('https://raw.githubusercontent.com/open-numbers/ddf--gapminder--systema_globalis/master/ddf--entities--geo--country.csv')\n",
        "                       .rename(columns={'country': 'geo', 'name': 'country'}))\n",
        "\n",
        "geo_country_codes = geo_country_codes[['geo','country']]"
      ],
      "execution_count": 0,
      "outputs": []
    },
    {
      "cell_type": "code",
      "metadata": {
        "id": "EixWLcO-cLa4",
        "colab_type": "code",
        "outputId": "2538886f-3c3e-416c-9399-216f44224e0c",
        "colab": {
          "base_uri": "https://localhost:8080/",
          "height": 79
        }
      },
      "source": [
        "cell_phones.sample()"
      ],
      "execution_count": 2,
      "outputs": [
        {
          "output_type": "execute_result",
          "data": {
            "text/html": [
              "<div>\n",
              "<style scoped>\n",
              "    .dataframe tbody tr th:only-of-type {\n",
              "        vertical-align: middle;\n",
              "    }\n",
              "\n",
              "    .dataframe tbody tr th {\n",
              "        vertical-align: top;\n",
              "    }\n",
              "\n",
              "    .dataframe thead th {\n",
              "        text-align: right;\n",
              "    }\n",
              "</style>\n",
              "<table border=\"1\" class=\"dataframe\">\n",
              "  <thead>\n",
              "    <tr style=\"text-align: right;\">\n",
              "      <th></th>\n",
              "      <th>geo</th>\n",
              "      <th>time</th>\n",
              "      <th>cell_phones_total</th>\n",
              "    </tr>\n",
              "  </thead>\n",
              "  <tbody>\n",
              "    <tr>\n",
              "      <th>4367</th>\n",
              "      <td>ken</td>\n",
              "      <td>1981</td>\n",
              "      <td>0.0</td>\n",
              "    </tr>\n",
              "  </tbody>\n",
              "</table>\n",
              "</div>"
            ],
            "text/plain": [
              "      geo  time  cell_phones_total\n",
              "4367  ken  1981                0.0"
            ]
          },
          "metadata": {
            "tags": []
          },
          "execution_count": 2
        }
      ]
    },
    {
      "cell_type": "code",
      "metadata": {
        "id": "nBMeq4UrQv6R",
        "colab_type": "code",
        "colab": {
          "base_uri": "https://localhost:8080/",
          "height": 79
        },
        "outputId": "83db3009-ce86-48f6-89d8-c051f5436d17"
      },
      "source": [
        "population.sample()"
      ],
      "execution_count": 3,
      "outputs": [
        {
          "output_type": "execute_result",
          "data": {
            "text/html": [
              "<div>\n",
              "<style scoped>\n",
              "    .dataframe tbody tr th:only-of-type {\n",
              "        vertical-align: middle;\n",
              "    }\n",
              "\n",
              "    .dataframe tbody tr th {\n",
              "        vertical-align: top;\n",
              "    }\n",
              "\n",
              "    .dataframe thead th {\n",
              "        text-align: right;\n",
              "    }\n",
              "</style>\n",
              "<table border=\"1\" class=\"dataframe\">\n",
              "  <thead>\n",
              "    <tr style=\"text-align: right;\">\n",
              "      <th></th>\n",
              "      <th>geo</th>\n",
              "      <th>time</th>\n",
              "      <th>population_total</th>\n",
              "    </tr>\n",
              "  </thead>\n",
              "  <tbody>\n",
              "    <tr>\n",
              "      <th>29873</th>\n",
              "      <td>lbr</td>\n",
              "      <td>1874</td>\n",
              "      <td>492066</td>\n",
              "    </tr>\n",
              "  </tbody>\n",
              "</table>\n",
              "</div>"
            ],
            "text/plain": [
              "       geo  time  population_total\n",
              "29873  lbr  1874            492066"
            ]
          },
          "metadata": {
            "tags": []
          },
          "execution_count": 3
        }
      ]
    },
    {
      "cell_type": "markdown",
      "metadata": {
        "id": "49XlFKmVIPl1",
        "colab_type": "text"
      },
      "source": [
        "Check for missing/null values in the three dataframes"
      ]
    },
    {
      "cell_type": "code",
      "metadata": {
        "id": "SwmSvUySJjXc",
        "colab_type": "code",
        "colab": {
          "base_uri": "https://localhost:8080/",
          "height": 89
        },
        "outputId": "408afeed-fc01-4f86-c3be-8b32205d872a"
      },
      "source": [
        "cell_phones.isnull().sum()"
      ],
      "execution_count": 4,
      "outputs": [
        {
          "output_type": "execute_result",
          "data": {
            "text/plain": [
              "geo                  0\n",
              "time                 0\n",
              "cell_phones_total    0\n",
              "dtype: int64"
            ]
          },
          "metadata": {
            "tags": []
          },
          "execution_count": 4
        }
      ]
    },
    {
      "cell_type": "code",
      "metadata": {
        "id": "NE09QTS5Mzd1",
        "colab_type": "code",
        "colab": {
          "base_uri": "https://localhost:8080/",
          "height": 89
        },
        "outputId": "9b72627d-d4e5-4e88-b2a9-55d133d44c09"
      },
      "source": [
        "population.isnull().sum()"
      ],
      "execution_count": 5,
      "outputs": [
        {
          "output_type": "execute_result",
          "data": {
            "text/plain": [
              "geo                 0\n",
              "time                0\n",
              "population_total    0\n",
              "dtype: int64"
            ]
          },
          "metadata": {
            "tags": []
          },
          "execution_count": 5
        }
      ]
    },
    {
      "cell_type": "code",
      "metadata": {
        "id": "D6EfROD0M2oM",
        "colab_type": "code",
        "colab": {
          "base_uri": "https://localhost:8080/",
          "height": 417
        },
        "outputId": "36a087de-007b-4110-d203-f097a53adfe6"
      },
      "source": [
        "geo_country_codes.isnull()\n"
      ],
      "execution_count": 6,
      "outputs": [
        {
          "output_type": "execute_result",
          "data": {
            "text/html": [
              "<div>\n",
              "<style scoped>\n",
              "    .dataframe tbody tr th:only-of-type {\n",
              "        vertical-align: middle;\n",
              "    }\n",
              "\n",
              "    .dataframe tbody tr th {\n",
              "        vertical-align: top;\n",
              "    }\n",
              "\n",
              "    .dataframe thead th {\n",
              "        text-align: right;\n",
              "    }\n",
              "</style>\n",
              "<table border=\"1\" class=\"dataframe\">\n",
              "  <thead>\n",
              "    <tr style=\"text-align: right;\">\n",
              "      <th></th>\n",
              "      <th>geo</th>\n",
              "      <th>country</th>\n",
              "    </tr>\n",
              "  </thead>\n",
              "  <tbody>\n",
              "    <tr>\n",
              "      <th>0</th>\n",
              "      <td>False</td>\n",
              "      <td>False</td>\n",
              "    </tr>\n",
              "    <tr>\n",
              "      <th>1</th>\n",
              "      <td>False</td>\n",
              "      <td>False</td>\n",
              "    </tr>\n",
              "    <tr>\n",
              "      <th>2</th>\n",
              "      <td>False</td>\n",
              "      <td>False</td>\n",
              "    </tr>\n",
              "    <tr>\n",
              "      <th>3</th>\n",
              "      <td>False</td>\n",
              "      <td>False</td>\n",
              "    </tr>\n",
              "    <tr>\n",
              "      <th>4</th>\n",
              "      <td>False</td>\n",
              "      <td>False</td>\n",
              "    </tr>\n",
              "    <tr>\n",
              "      <th>...</th>\n",
              "      <td>...</td>\n",
              "      <td>...</td>\n",
              "    </tr>\n",
              "    <tr>\n",
              "      <th>268</th>\n",
              "      <td>False</td>\n",
              "      <td>False</td>\n",
              "    </tr>\n",
              "    <tr>\n",
              "      <th>269</th>\n",
              "      <td>False</td>\n",
              "      <td>False</td>\n",
              "    </tr>\n",
              "    <tr>\n",
              "      <th>270</th>\n",
              "      <td>False</td>\n",
              "      <td>False</td>\n",
              "    </tr>\n",
              "    <tr>\n",
              "      <th>271</th>\n",
              "      <td>False</td>\n",
              "      <td>False</td>\n",
              "    </tr>\n",
              "    <tr>\n",
              "      <th>272</th>\n",
              "      <td>False</td>\n",
              "      <td>False</td>\n",
              "    </tr>\n",
              "  </tbody>\n",
              "</table>\n",
              "<p>273 rows × 2 columns</p>\n",
              "</div>"
            ],
            "text/plain": [
              "       geo  country\n",
              "0    False    False\n",
              "1    False    False\n",
              "2    False    False\n",
              "3    False    False\n",
              "4    False    False\n",
              "..     ...      ...\n",
              "268  False    False\n",
              "269  False    False\n",
              "270  False    False\n",
              "271  False    False\n",
              "272  False    False\n",
              "\n",
              "[273 rows x 2 columns]"
            ]
          },
          "metadata": {
            "tags": []
          },
          "execution_count": 6
        }
      ]
    },
    {
      "cell_type": "markdown",
      "metadata": {
        "id": "83ovVS6qIWS1",
        "colab_type": "text"
      },
      "source": [
        "Make a scatter plot from the `cell_phones` dataframe plotting \"time\" against \"cell_phones_total\""
      ]
    },
    {
      "cell_type": "code",
      "metadata": {
        "id": "ewdGy4NfG9vA",
        "colab_type": "code",
        "colab": {
          "base_uri": "https://localhost:8080/",
          "height": 290
        },
        "outputId": "704cc063-4c28-457c-a08d-3e75a85fa4aa"
      },
      "source": [
        "cell_phones.plot.scatter(x='time', y='cell_phones_total', c='DarkBlue');"
      ],
      "execution_count": 8,
      "outputs": [
        {
          "output_type": "display_data",
          "data": {
            "image/png": "[encoded data removed]",
            "text/plain": [
              "<Figure size 432x288 with 1 Axes>"
            ]
          },
          "metadata": {
            "tags": []
          }
        }
      ]
    },
    {
      "cell_type": "markdown",
      "metadata": {
        "id": "IvJMtxmBI27k",
        "colab_type": "text"
      },
      "source": [
        "### Part 2 - Join data\n",
        "\n",
        "First, join the `cell_phones` and `population` dataframes (with an inner join on `geo` and `time`).\n",
        "\n",
        "The resulting dataframe's shape should be: (8590, 4)"
      ]
    },
    {
      "cell_type": "code",
      "metadata": {
        "id": "MFMA06QjG1KT",
        "colab_type": "code",
        "colab": {
          "base_uri": "https://localhost:8080/",
          "height": 35
        },
        "outputId": "15cc0be6-d97f-40fa-b96b-5476a082f47f"
      },
      "source": [
        "cell_phones.shape"
      ],
      "execution_count": 9,
      "outputs": [
        {
          "output_type": "execute_result",
          "data": {
            "text/plain": [
              "(9215, 3)"
            ]
          },
          "metadata": {
            "tags": []
          },
          "execution_count": 9
        }
      ]
    },
    {
      "cell_type": "code",
      "metadata": {
        "id": "2grBV6gCQFJu",
        "colab_type": "code",
        "colab": {
          "base_uri": "https://localhost:8080/",
          "height": 35
        },
        "outputId": "992da14c-b130-4e80-9675-f0ffb117f0d7"
      },
      "source": [
        "population.shape"
      ],
      "execution_count": 10,
      "outputs": [
        {
          "output_type": "execute_result",
          "data": {
            "text/plain": [
              "(59297, 3)"
            ]
          },
          "metadata": {
            "tags": []
          },
          "execution_count": 10
        }
      ]
    },
    {
      "cell_type": "code",
      "metadata": {
        "id": "kh2mtujiQ9Zg",
        "colab_type": "code",
        "colab": {
          "base_uri": "https://localhost:8080/",
          "height": 35
        },
        "outputId": "feb12595-e44f-483b-8c7a-ee0f0c74ddc9"
      },
      "source": [
        "merged = pd.merge(cell_phones, population, on=['geo', 'time'], how='inner')\n",
        "merged.shape"
      ],
      "execution_count": 11,
      "outputs": [
        {
          "output_type": "execute_result",
          "data": {
            "text/plain": [
              "(8590, 4)"
            ]
          },
          "metadata": {
            "tags": []
          },
          "execution_count": 11
        }
      ]
    },
    {
      "cell_type": "markdown",
      "metadata": {
        "id": "lziNWF2eJZwC",
        "colab_type": "text"
      },
      "source": [
        "Then, select the `geo` and `country` columns from the `geo_country_codes` dataframe, and join with your population and cell phone data.\n",
        "\n",
        "The resulting dataframe's shape should be: (8590, 5)"
      ]
    },
    {
      "cell_type": "code",
      "metadata": {
        "id": "KQa2Jw9gJa-g",
        "colab_type": "code",
        "colab": {
          "base_uri": "https://localhost:8080/",
          "height": 417
        },
        "outputId": "c1eabd49-0947-48b6-d469-f2e43863f611"
      },
      "source": [
        "geo_country_codes"
      ],
      "execution_count": 12,
      "outputs": [
        {
          "output_type": "execute_result",
          "data": {
            "text/html": [
              "<div>\n",
              "<style scoped>\n",
              "    .dataframe tbody tr th:only-of-type {\n",
              "        vertical-align: middle;\n",
              "    }\n",
              "\n",
              "    .dataframe tbody tr th {\n",
              "        vertical-align: top;\n",
              "    }\n",
              "\n",
              "    .dataframe thead th {\n",
              "        text-align: right;\n",
              "    }\n",
              "</style>\n",
              "<table border=\"1\" class=\"dataframe\">\n",
              "  <thead>\n",
              "    <tr style=\"text-align: right;\">\n",
              "      <th></th>\n",
              "      <th>geo</th>\n",
              "      <th>country</th>\n",
              "    </tr>\n",
              "  </thead>\n",
              "  <tbody>\n",
              "    <tr>\n",
              "      <th>0</th>\n",
              "      <td>abkh</td>\n",
              "      <td>Abkhazia</td>\n",
              "    </tr>\n",
              "    <tr>\n",
              "      <th>1</th>\n",
              "      <td>abw</td>\n",
              "      <td>Aruba</td>\n",
              "    </tr>\n",
              "    <tr>\n",
              "      <th>2</th>\n",
              "      <td>afg</td>\n",
              "      <td>Afghanistan</td>\n",
              "    </tr>\n",
              "    <tr>\n",
              "      <th>3</th>\n",
              "      <td>ago</td>\n",
              "      <td>Angola</td>\n",
              "    </tr>\n",
              "    <tr>\n",
              "      <th>4</th>\n",
              "      <td>aia</td>\n",
              "      <td>Anguilla</td>\n",
              "    </tr>\n",
              "    <tr>\n",
              "      <th>...</th>\n",
              "      <td>...</td>\n",
              "      <td>...</td>\n",
              "    </tr>\n",
              "    <tr>\n",
              "      <th>268</th>\n",
              "      <td>yem_south</td>\n",
              "      <td>South Yemen (former)</td>\n",
              "    </tr>\n",
              "    <tr>\n",
              "      <th>269</th>\n",
              "      <td>yug</td>\n",
              "      <td>Yugoslavia</td>\n",
              "    </tr>\n",
              "    <tr>\n",
              "      <th>270</th>\n",
              "      <td>zaf</td>\n",
              "      <td>South Africa</td>\n",
              "    </tr>\n",
              "    <tr>\n",
              "      <th>271</th>\n",
              "      <td>zmb</td>\n",
              "      <td>Zambia</td>\n",
              "    </tr>\n",
              "    <tr>\n",
              "      <th>272</th>\n",
              "      <td>zwe</td>\n",
              "      <td>Zimbabwe</td>\n",
              "    </tr>\n",
              "  </tbody>\n",
              "</table>\n",
              "<p>273 rows × 2 columns</p>\n",
              "</div>"
            ],
            "text/plain": [
              "           geo               country\n",
              "0         abkh              Abkhazia\n",
              "1          abw                 Aruba\n",
              "2          afg           Afghanistan\n",
              "3          ago                Angola\n",
              "4          aia              Anguilla\n",
              "..         ...                   ...\n",
              "268  yem_south  South Yemen (former)\n",
              "269        yug            Yugoslavia\n",
              "270        zaf          South Africa\n",
              "271        zmb                Zambia\n",
              "272        zwe              Zimbabwe\n",
              "\n",
              "[273 rows x 2 columns]"
            ]
          },
          "metadata": {
            "tags": []
          },
          "execution_count": 12
        }
      ]
    },
    {
      "cell_type": "code",
      "metadata": {
        "id": "zDH-bKG4TJHh",
        "colab_type": "code",
        "colab": {
          "base_uri": "https://localhost:8080/",
          "height": 35
        },
        "outputId": "d14c53b7-c63e-4431-f0ec-553cf809ca4e"
      },
      "source": [
        "merged.columns\n"
      ],
      "execution_count": 31,
      "outputs": [
        {
          "output_type": "execute_result",
          "data": {
            "text/plain": [
              "Index(['geo', 'time', 'cell_phones_total', 'population_total'], dtype='object')"
            ]
          },
          "metadata": {
            "tags": []
          },
          "execution_count": 31
        }
      ]
    },
    {
      "cell_type": "code",
      "metadata": {
        "id": "eXV46TmqSRua",
        "colab_type": "code",
        "colab": {
          "base_uri": "https://localhost:8080/",
          "height": 35
        },
        "outputId": "c15e4917-c34c-46b2-89af-ea6229b71526"
      },
      "source": [
        "geo_countries = pd.DataFrame({'geo_country_codes': ['geo', 'country']})\n",
        "geo_countries.shape"
      ],
      "execution_count": 34,
      "outputs": [
        {
          "output_type": "execute_result",
          "data": {
            "text/plain": [
              "(2, 1)"
            ]
          },
          "metadata": {
            "tags": []
          },
          "execution_count": 34
        }
      ]
    },
    {
      "cell_type": "code",
      "metadata": {
        "id": "IK6rQnsHUWBm",
        "colab_type": "code",
        "colab": {
          "base_uri": "https://localhost:8080/",
          "height": 35
        },
        "outputId": "35e062df-5332-4e50-c1cb-035aa30ec0aa"
      },
      "source": [
        "merged1 = pd.merge(merged, geo_country_codes, on='geo', how='left')\n",
        "merged1.shape"
      ],
      "execution_count": 13,
      "outputs": [
        {
          "output_type": "execute_result",
          "data": {
            "text/plain": [
              "(8590, 5)"
            ]
          },
          "metadata": {
            "tags": []
          },
          "execution_count": 13
        }
      ]
    },
    {
      "cell_type": "code",
      "metadata": {
        "id": "U-QUDIbWyEzV",
        "colab_type": "code",
        "colab": {
          "base_uri": "https://localhost:8080/",
          "height": 35
        },
        "outputId": "693f7a92-7dab-4633-faee-e0599d73210e"
      },
      "source": [
        "merged1.columns"
      ],
      "execution_count": 14,
      "outputs": [
        {
          "output_type": "execute_result",
          "data": {
            "text/plain": [
              "Index(['geo', 'time', 'cell_phones_total', 'population_total', 'country'], dtype='object')"
            ]
          },
          "metadata": {
            "tags": []
          },
          "execution_count": 14
        }
      ]
    },
    {
      "cell_type": "markdown",
      "metadata": {
        "id": "8xjRfkOjKECI",
        "colab_type": "text"
      },
      "source": [
        "### Part 3 - Make features\n",
        "\n",
        "Calculate the number of cell phones per person, and add this column onto your dataframe.\n",
        "\n",
        "(You've calculated correctly if you get 1.220 cell phones per person in the United States in 2017.)"
      ]
    },
    {
      "cell_type": "code",
      "metadata": {
        "id": "lOgLvqCQKFwY",
        "colab_type": "code",
        "colab": {
          "base_uri": "https://localhost:8080/",
          "height": 125
        },
        "outputId": "2b28651c-f6ca-4e5b-aa85-20f47cbb63c6"
      },
      "source": [
        "# merged1['per_person']\n",
        "\n",
        "\n",
        "\n",
        "merged1['per_persons'] = merged1['population_total'] / merged1['cell_phones_total']\n",
        "\n",
        "merged1['per_persons'].sample(5)\n",
        "\n",
        "\n"
      ],
      "execution_count": 20,
      "outputs": [
        {
          "output_type": "execute_result",
          "data": {
            "text/plain": [
              "6       inf\n",
              "3189    inf\n",
              "813     inf\n",
              "2277    inf\n",
              "7492    inf\n",
              "Name: per_persons, dtype: float64"
            ]
          },
          "metadata": {
            "tags": []
          },
          "execution_count": 20
        }
      ]
    },
    {
      "cell_type": "code",
      "metadata": {
        "id": "97RKlks-1vzS",
        "colab_type": "code",
        "colab": {
          "base_uri": "https://localhost:8080/",
          "height": 666
        },
        "outputId": "52e880a6-93da-4ea1-e4ec-a5ed1891f4bd"
      },
      "source": [
        "merged1[['time', 'per_persons']].tail(20)"
      ],
      "execution_count": 27,
      "outputs": [
        {
          "output_type": "execute_result",
          "data": {
            "text/html": [
              "<div>\n",
              "<style scoped>\n",
              "    .dataframe tbody tr th:only-of-type {\n",
              "        vertical-align: middle;\n",
              "    }\n",
              "\n",
              "    .dataframe tbody tr th {\n",
              "        vertical-align: top;\n",
              "    }\n",
              "\n",
              "    .dataframe thead th {\n",
              "        text-align: right;\n",
              "    }\n",
              "</style>\n",
              "<table border=\"1\" class=\"dataframe\">\n",
              "  <thead>\n",
              "    <tr style=\"text-align: right;\">\n",
              "      <th></th>\n",
              "      <th>time</th>\n",
              "      <th>per_persons</th>\n",
              "    </tr>\n",
              "  </thead>\n",
              "  <tbody>\n",
              "    <tr>\n",
              "      <th>8570</th>\n",
              "      <td>1998</td>\n",
              "      <td>625.961684</td>\n",
              "    </tr>\n",
              "    <tr>\n",
              "      <th>8571</th>\n",
              "      <td>1999</td>\n",
              "      <td>69.336420</td>\n",
              "    </tr>\n",
              "    <tr>\n",
              "      <th>8572</th>\n",
              "      <td>2000</td>\n",
              "      <td>45.872261</td>\n",
              "    </tr>\n",
              "    <tr>\n",
              "      <th>8573</th>\n",
              "      <td>2001</td>\n",
              "      <td>39.382440</td>\n",
              "    </tr>\n",
              "    <tr>\n",
              "      <th>8574</th>\n",
              "      <td>2002</td>\n",
              "      <td>36.898760</td>\n",
              "    </tr>\n",
              "    <tr>\n",
              "      <th>8575</th>\n",
              "      <td>2003</td>\n",
              "      <td>34.741818</td>\n",
              "    </tr>\n",
              "    <tr>\n",
              "      <th>8576</th>\n",
              "      <td>2004</td>\n",
              "      <td>30.012122</td>\n",
              "    </tr>\n",
              "    <tr>\n",
              "      <th>8577</th>\n",
              "      <td>2005</td>\n",
              "      <td>19.996650</td>\n",
              "    </tr>\n",
              "    <tr>\n",
              "      <th>8578</th>\n",
              "      <td>2006</td>\n",
              "      <td>15.455843</td>\n",
              "    </tr>\n",
              "    <tr>\n",
              "      <th>8579</th>\n",
              "      <td>2007</td>\n",
              "      <td>10.875752</td>\n",
              "    </tr>\n",
              "    <tr>\n",
              "      <th>8580</th>\n",
              "      <td>2008</td>\n",
              "      <td>8.193810</td>\n",
              "    </tr>\n",
              "    <tr>\n",
              "      <th>8581</th>\n",
              "      <td>2009</td>\n",
              "      <td>3.460436</td>\n",
              "    </tr>\n",
              "    <tr>\n",
              "      <th>8582</th>\n",
              "      <td>2010</td>\n",
              "      <td>1.829392</td>\n",
              "    </tr>\n",
              "    <tr>\n",
              "      <th>8583</th>\n",
              "      <td>2011</td>\n",
              "      <td>1.563766</td>\n",
              "    </tr>\n",
              "    <tr>\n",
              "      <th>8584</th>\n",
              "      <td>2012</td>\n",
              "      <td>1.166236</td>\n",
              "    </tr>\n",
              "    <tr>\n",
              "      <th>8585</th>\n",
              "      <td>2013</td>\n",
              "      <td>1.104256</td>\n",
              "    </tr>\n",
              "    <tr>\n",
              "      <th>8586</th>\n",
              "      <td>2014</td>\n",
              "      <td>1.306223</td>\n",
              "    </tr>\n",
              "    <tr>\n",
              "      <th>8587</th>\n",
              "      <td>2015</td>\n",
              "      <td>1.236728</td>\n",
              "    </tr>\n",
              "    <tr>\n",
              "      <th>8588</th>\n",
              "      <td>2016</td>\n",
              "      <td>1.254015</td>\n",
              "    </tr>\n",
              "    <tr>\n",
              "      <th>8589</th>\n",
              "      <td>2017</td>\n",
              "      <td>1.172990</td>\n",
              "    </tr>\n",
              "  </tbody>\n",
              "</table>\n",
              "</div>"
            ],
            "text/plain": [
              "      time  per_persons\n",
              "8570  1998   625.961684\n",
              "8571  1999    69.336420\n",
              "8572  2000    45.872261\n",
              "8573  2001    39.382440\n",
              "8574  2002    36.898760\n",
              "8575  2003    34.741818\n",
              "8576  2004    30.012122\n",
              "8577  2005    19.996650\n",
              "8578  2006    15.455843\n",
              "8579  2007    10.875752\n",
              "8580  2008     8.193810\n",
              "8581  2009     3.460436\n",
              "8582  2010     1.829392\n",
              "8583  2011     1.563766\n",
              "8584  2012     1.166236\n",
              "8585  2013     1.104256\n",
              "8586  2014     1.306223\n",
              "8587  2015     1.236728\n",
              "8588  2016     1.254015\n",
              "8589  2017     1.172990"
            ]
          },
          "metadata": {
            "tags": []
          },
          "execution_count": 27
        }
      ]
    },
    {
      "cell_type": "code",
      "metadata": {
        "id": "bMQ47DAk3KHS",
        "colab_type": "code",
        "colab": {
          "base_uri": "https://localhost:8080/",
          "height": 1000
        },
        "outputId": "ee8c4ab2-b33e-427c-d51d-08ef89e460f9"
      },
      "source": [
        "merged1.sample(50)"
      ],
      "execution_count": 28,
      "outputs": [
        {
          "output_type": "execute_result",
          "data": {
            "text/html": [
              "<div>\n",
              "<style scoped>\n",
              "    .dataframe tbody tr th:only-of-type {\n",
              "        vertical-align: middle;\n",
              "    }\n",
              "\n",
              "    .dataframe tbody tr th {\n",
              "        vertical-align: top;\n",
              "    }\n",
              "\n",
              "    .dataframe thead th {\n",
              "        text-align: right;\n",
              "    }\n",
              "</style>\n",
              "<table border=\"1\" class=\"dataframe\">\n",
              "  <thead>\n",
              "    <tr style=\"text-align: right;\">\n",
              "      <th></th>\n",
              "      <th>geo</th>\n",
              "      <th>time</th>\n",
              "      <th>cell_phones_total</th>\n",
              "      <th>population_total</th>\n",
              "      <th>country</th>\n",
              "      <th>per_persons</th>\n",
              "    </tr>\n",
              "  </thead>\n",
              "  <tbody>\n",
              "    <tr>\n",
              "      <th>2997</th>\n",
              "      <td>gmb</td>\n",
              "      <td>2015</td>\n",
              "      <td>2715672.0</td>\n",
              "      <td>1977590</td>\n",
              "      <td>Gambia</td>\n",
              "      <td>0.728214</td>\n",
              "    </tr>\n",
              "    <tr>\n",
              "      <th>7121</th>\n",
              "      <td>sur</td>\n",
              "      <td>1970</td>\n",
              "      <td>0.0</td>\n",
              "      <td>371273</td>\n",
              "      <td>Suriname</td>\n",
              "      <td>inf</td>\n",
              "    </tr>\n",
              "    <tr>\n",
              "      <th>904</th>\n",
              "      <td>blr</td>\n",
              "      <td>1970</td>\n",
              "      <td>0.0</td>\n",
              "      <td>8977639</td>\n",
              "      <td>Belarus</td>\n",
              "      <td>inf</td>\n",
              "    </tr>\n",
              "    <tr>\n",
              "      <th>4666</th>\n",
              "      <td>lso</td>\n",
              "      <td>1995</td>\n",
              "      <td>0.0</td>\n",
              "      <td>1761359</td>\n",
              "      <td>Lesotho</td>\n",
              "      <td>inf</td>\n",
              "    </tr>\n",
              "    <tr>\n",
              "      <th>2684</th>\n",
              "      <td>fsm</td>\n",
              "      <td>1975</td>\n",
              "      <td>0.0</td>\n",
              "      <td>63144</td>\n",
              "      <td>Micronesia, Fed. Sts.</td>\n",
              "      <td>inf</td>\n",
              "    </tr>\n",
              "    <tr>\n",
              "      <th>2529</th>\n",
              "      <td>eth</td>\n",
              "      <td>2004</td>\n",
              "      <td>155534.0</td>\n",
              "      <td>74624405</td>\n",
              "      <td>Ethiopia</td>\n",
              "      <td>479.794804</td>\n",
              "    </tr>\n",
              "    <tr>\n",
              "      <th>2043</th>\n",
              "      <td>deu</td>\n",
              "      <td>2016</td>\n",
              "      <td>103470000.0</td>\n",
              "      <td>81914672</td>\n",
              "      <td>Germany</td>\n",
              "      <td>0.791676</td>\n",
              "    </tr>\n",
              "    <tr>\n",
              "      <th>3772</th>\n",
              "      <td>isl</td>\n",
              "      <td>2010</td>\n",
              "      <td>341077.0</td>\n",
              "      <td>320328</td>\n",
              "      <td>Iceland</td>\n",
              "      <td>0.939166</td>\n",
              "    </tr>\n",
              "    <tr>\n",
              "      <th>1798</th>\n",
              "      <td>cpv</td>\n",
              "      <td>2001</td>\n",
              "      <td>31507.0</td>\n",
              "      <td>443716</td>\n",
              "      <td>Cape Verde</td>\n",
              "      <td>14.083093</td>\n",
              "    </tr>\n",
              "    <tr>\n",
              "      <th>1127</th>\n",
              "      <td>brb</td>\n",
              "      <td>2014</td>\n",
              "      <td>305456.0</td>\n",
              "      <td>283385</td>\n",
              "      <td>Barbados</td>\n",
              "      <td>0.927744</td>\n",
              "    </tr>\n",
              "    <tr>\n",
              "      <th>233</th>\n",
              "      <td>arg</td>\n",
              "      <td>1985</td>\n",
              "      <td>0.0</td>\n",
              "      <td>30388783</td>\n",
              "      <td>Argentina</td>\n",
              "      <td>inf</td>\n",
              "    </tr>\n",
              "    <tr>\n",
              "      <th>2655</th>\n",
              "      <td>fra</td>\n",
              "      <td>1992</td>\n",
              "      <td>436700.0</td>\n",
              "      <td>57496974</td>\n",
              "      <td>France</td>\n",
              "      <td>131.662409</td>\n",
              "    </tr>\n",
              "    <tr>\n",
              "      <th>491</th>\n",
              "      <td>bdi</td>\n",
              "      <td>1970</td>\n",
              "      <td>0.0</td>\n",
              "      <td>3455606</td>\n",
              "      <td>Burundi</td>\n",
              "      <td>inf</td>\n",
              "    </tr>\n",
              "    <tr>\n",
              "      <th>7447</th>\n",
              "      <td>tcd</td>\n",
              "      <td>1979</td>\n",
              "      <td>0.0</td>\n",
              "      <td>4420716</td>\n",
              "      <td>Chad</td>\n",
              "      <td>inf</td>\n",
              "    </tr>\n",
              "    <tr>\n",
              "      <th>1697</th>\n",
              "      <td>col</td>\n",
              "      <td>1992</td>\n",
              "      <td>0.0</td>\n",
              "      <td>35558682</td>\n",
              "      <td>Colombia</td>\n",
              "      <td>inf</td>\n",
              "    </tr>\n",
              "    <tr>\n",
              "      <th>412</th>\n",
              "      <td>aut</td>\n",
              "      <td>1987</td>\n",
              "      <td>26223.0</td>\n",
              "      <td>7639352</td>\n",
              "      <td>Austria</td>\n",
              "      <td>291.322579</td>\n",
              "    </tr>\n",
              "    <tr>\n",
              "      <th>8494</th>\n",
              "      <td>zaf</td>\n",
              "      <td>2014</td>\n",
              "      <td>79280731.0</td>\n",
              "      <td>54539571</td>\n",
              "      <td>South Africa</td>\n",
              "      <td>0.687930</td>\n",
              "    </tr>\n",
              "    <tr>\n",
              "      <th>4157</th>\n",
              "      <td>khm</td>\n",
              "      <td>2000</td>\n",
              "      <td>130547.0</td>\n",
              "      <td>12152354</td>\n",
              "      <td>Cambodia</td>\n",
              "      <td>93.087961</td>\n",
              "    </tr>\n",
              "    <tr>\n",
              "      <th>1573</th>\n",
              "      <td>cmr</td>\n",
              "      <td>2002</td>\n",
              "      <td>701507.0</td>\n",
              "      <td>16084886</td>\n",
              "      <td>Cameroon</td>\n",
              "      <td>22.929046</td>\n",
              "    </tr>\n",
              "    <tr>\n",
              "      <th>1577</th>\n",
              "      <td>cmr</td>\n",
              "      <td>2006</td>\n",
              "      <td>3135946.0</td>\n",
              "      <td>17899562</td>\n",
              "      <td>Cameroon</td>\n",
              "      <td>5.707867</td>\n",
              "    </tr>\n",
              "    <tr>\n",
              "      <th>4607</th>\n",
              "      <td>lka</td>\n",
              "      <td>1982</td>\n",
              "      <td>0.0</td>\n",
              "      <td>15502515</td>\n",
              "      <td>Sri Lanka</td>\n",
              "      <td>inf</td>\n",
              "    </tr>\n",
              "    <tr>\n",
              "      <th>3671</th>\n",
              "      <td>irn</td>\n",
              "      <td>2001</td>\n",
              "      <td>2087353.0</td>\n",
              "      <td>67096414</td>\n",
              "      <td>Iran</td>\n",
              "      <td>32.144258</td>\n",
              "    </tr>\n",
              "    <tr>\n",
              "      <th>1258</th>\n",
              "      <td>bwa</td>\n",
              "      <td>2008</td>\n",
              "      <td>1485791.0</td>\n",
              "      <td>1946351</td>\n",
              "      <td>Botswana</td>\n",
              "      <td>1.309976</td>\n",
              "    </tr>\n",
              "    <tr>\n",
              "      <th>1885</th>\n",
              "      <td>cub</td>\n",
              "      <td>1996</td>\n",
              "      <td>2427.0</td>\n",
              "      <td>10961012</td>\n",
              "      <td>Cuba</td>\n",
              "      <td>4516.280181</td>\n",
              "    </tr>\n",
              "    <tr>\n",
              "      <th>3973</th>\n",
              "      <td>jpn</td>\n",
              "      <td>2000</td>\n",
              "      <td>66784374.0</td>\n",
              "      <td>127533934</td>\n",
              "      <td>Japan</td>\n",
              "      <td>1.909637</td>\n",
              "    </tr>\n",
              "    <tr>\n",
              "      <th>7858</th>\n",
              "      <td>tur</td>\n",
              "      <td>2012</td>\n",
              "      <td>67680547.0</td>\n",
              "      <td>74569867</td>\n",
              "      <td>Turkey</td>\n",
              "      <td>1.101792</td>\n",
              "    </tr>\n",
              "    <tr>\n",
              "      <th>6105</th>\n",
              "      <td>pan</td>\n",
              "      <td>1960</td>\n",
              "      <td>0.0</td>\n",
              "      <td>1132921</td>\n",
              "      <td>Panama</td>\n",
              "      <td>inf</td>\n",
              "    </tr>\n",
              "    <tr>\n",
              "      <th>7811</th>\n",
              "      <td>tun</td>\n",
              "      <td>2011</td>\n",
              "      <td>12387656.0</td>\n",
              "      <td>10761467</td>\n",
              "      <td>Tunisia</td>\n",
              "      <td>0.868725</td>\n",
              "    </tr>\n",
              "    <tr>\n",
              "      <th>2232</th>\n",
              "      <td>dza</td>\n",
              "      <td>1979</td>\n",
              "      <td>0.0</td>\n",
              "      <td>18760761</td>\n",
              "      <td>Algeria</td>\n",
              "      <td>inf</td>\n",
              "    </tr>\n",
              "    <tr>\n",
              "      <th>5051</th>\n",
              "      <td>mdv</td>\n",
              "      <td>2012</td>\n",
              "      <td>560547.0</td>\n",
              "      <td>386203</td>\n",
              "      <td>Maldives</td>\n",
              "      <td>0.688975</td>\n",
              "    </tr>\n",
              "    <tr>\n",
              "      <th>5170</th>\n",
              "      <td>mkd</td>\n",
              "      <td>2003</td>\n",
              "      <td>776000.0</td>\n",
              "      <td>2053426</td>\n",
              "      <td>Macedonia, FYR</td>\n",
              "      <td>2.646168</td>\n",
              "    </tr>\n",
              "    <tr>\n",
              "      <th>8198</th>\n",
              "      <td>vct</td>\n",
              "      <td>1989</td>\n",
              "      <td>0.0</td>\n",
              "      <td>107084</td>\n",
              "      <td>St. Vincent and the Grenadines</td>\n",
              "      <td>inf</td>\n",
              "    </tr>\n",
              "    <tr>\n",
              "      <th>1209</th>\n",
              "      <td>btn</td>\n",
              "      <td>2005</td>\n",
              "      <td>36000.0</td>\n",
              "      <td>656639</td>\n",
              "      <td>Bhutan</td>\n",
              "      <td>18.239972</td>\n",
              "    </tr>\n",
              "    <tr>\n",
              "      <th>7251</th>\n",
              "      <td>svn</td>\n",
              "      <td>2012</td>\n",
              "      <td>2241160.0</td>\n",
              "      <td>2060390</td>\n",
              "      <td>Slovenia</td>\n",
              "      <td>0.919341</td>\n",
              "    </tr>\n",
              "    <tr>\n",
              "      <th>2985</th>\n",
              "      <td>gmb</td>\n",
              "      <td>2003</td>\n",
              "      <td>149300.0</td>\n",
              "      <td>1354194</td>\n",
              "      <td>Gambia</td>\n",
              "      <td>9.070288</td>\n",
              "    </tr>\n",
              "    <tr>\n",
              "      <th>4543</th>\n",
              "      <td>lca</td>\n",
              "      <td>1982</td>\n",
              "      <td>0.0</td>\n",
              "      <td>121154</td>\n",
              "      <td>St. Lucia</td>\n",
              "      <td>inf</td>\n",
              "    </tr>\n",
              "    <tr>\n",
              "      <th>6492</th>\n",
              "      <td>pse</td>\n",
              "      <td>2003</td>\n",
              "      <td>264091.0</td>\n",
              "      <td>3440799</td>\n",
              "      <td>Palestine</td>\n",
              "      <td>13.028839</td>\n",
              "    </tr>\n",
              "    <tr>\n",
              "      <th>8427</th>\n",
              "      <td>yem</td>\n",
              "      <td>1992</td>\n",
              "      <td>1550.0</td>\n",
              "      <td>13325583</td>\n",
              "      <td>Yemen</td>\n",
              "      <td>8597.150323</td>\n",
              "    </tr>\n",
              "    <tr>\n",
              "      <th>8086</th>\n",
              "      <td>ury</td>\n",
              "      <td>2012</td>\n",
              "      <td>4995459.0</td>\n",
              "      <td>3396777</td>\n",
              "      <td>Uruguay</td>\n",
              "      <td>0.679973</td>\n",
              "    </tr>\n",
              "    <tr>\n",
              "      <th>495</th>\n",
              "      <td>bdi</td>\n",
              "      <td>1978</td>\n",
              "      <td>0.0</td>\n",
              "      <td>3913768</td>\n",
              "      <td>Burundi</td>\n",
              "      <td>inf</td>\n",
              "    </tr>\n",
              "    <tr>\n",
              "      <th>5097</th>\n",
              "      <td>mex</td>\n",
              "      <td>2012</td>\n",
              "      <td>100727228.0</td>\n",
              "      <td>120828307</td>\n",
              "      <td>Mexico</td>\n",
              "      <td>1.199560</td>\n",
              "    </tr>\n",
              "    <tr>\n",
              "      <th>719</th>\n",
              "      <td>bgr</td>\n",
              "      <td>1960</td>\n",
              "      <td>0.0</td>\n",
              "      <td>7885525</td>\n",
              "      <td>Bulgaria</td>\n",
              "      <td>inf</td>\n",
              "    </tr>\n",
              "    <tr>\n",
              "      <th>5763</th>\n",
              "      <td>nic</td>\n",
              "      <td>1986</td>\n",
              "      <td>0.0</td>\n",
              "      <td>3796917</td>\n",
              "      <td>Nicaragua</td>\n",
              "      <td>inf</td>\n",
              "    </tr>\n",
              "    <tr>\n",
              "      <th>7974</th>\n",
              "      <td>uga</td>\n",
              "      <td>1992</td>\n",
              "      <td>0.0</td>\n",
              "      <td>18652889</td>\n",
              "      <td>Uganda</td>\n",
              "      <td>inf</td>\n",
              "    </tr>\n",
              "    <tr>\n",
              "      <th>5404</th>\n",
              "      <td>moz</td>\n",
              "      <td>1994</td>\n",
              "      <td>0.0</td>\n",
              "      <td>15217044</td>\n",
              "      <td>Mozambique</td>\n",
              "      <td>inf</td>\n",
              "    </tr>\n",
              "    <tr>\n",
              "      <th>3237</th>\n",
              "      <td>guy</td>\n",
              "      <td>1981</td>\n",
              "      <td>0.0</td>\n",
              "      <td>781732</td>\n",
              "      <td>Guyana</td>\n",
              "      <td>inf</td>\n",
              "    </tr>\n",
              "    <tr>\n",
              "      <th>8083</th>\n",
              "      <td>ury</td>\n",
              "      <td>2009</td>\n",
              "      <td>4111560.0</td>\n",
              "      <td>3362755</td>\n",
              "      <td>Uruguay</td>\n",
              "      <td>0.817878</td>\n",
              "    </tr>\n",
              "    <tr>\n",
              "      <th>1530</th>\n",
              "      <td>civ</td>\n",
              "      <td>2005</td>\n",
              "      <td>2349439.0</td>\n",
              "      <td>18336303</td>\n",
              "      <td>Cote d'Ivoire</td>\n",
              "      <td>7.804545</td>\n",
              "    </tr>\n",
              "    <tr>\n",
              "      <th>3969</th>\n",
              "      <td>jpn</td>\n",
              "      <td>1996</td>\n",
              "      <td>26906511.0</td>\n",
              "      <td>126654021</td>\n",
              "      <td>Japan</td>\n",
              "      <td>4.707189</td>\n",
              "    </tr>\n",
              "    <tr>\n",
              "      <th>5737</th>\n",
              "      <td>nga</td>\n",
              "      <td>2006</td>\n",
              "      <td>32322202.0</td>\n",
              "      <td>142614094</td>\n",
              "      <td>Nigeria</td>\n",
              "      <td>4.412264</td>\n",
              "    </tr>\n",
              "  </tbody>\n",
              "</table>\n",
              "</div>"
            ],
            "text/plain": [
              "      geo  time  ...                         country  per_persons\n",
              "2997  gmb  2015  ...                          Gambia     0.728214\n",
              "7121  sur  1970  ...                        Suriname          inf\n",
              "904   blr  1970  ...                         Belarus          inf\n",
              "4666  lso  1995  ...                         Lesotho          inf\n",
              "2684  fsm  1975  ...           Micronesia, Fed. Sts.          inf\n",
              "2529  eth  2004  ...                        Ethiopia   479.794804\n",
              "2043  deu  2016  ...                         Germany     0.791676\n",
              "3772  isl  2010  ...                         Iceland     0.939166\n",
              "1798  cpv  2001  ...                      Cape Verde    14.083093\n",
              "1127  brb  2014  ...                        Barbados     0.927744\n",
              "233   arg  1985  ...                       Argentina          inf\n",
              "2655  fra  1992  ...                          France   131.662409\n",
              "491   bdi  1970  ...                         Burundi          inf\n",
              "7447  tcd  1979  ...                            Chad          inf\n",
              "1697  col  1992  ...                        Colombia          inf\n",
              "412   aut  1987  ...                         Austria   291.322579\n",
              "8494  zaf  2014  ...                    South Africa     0.687930\n",
              "4157  khm  2000  ...                        Cambodia    93.087961\n",
              "1573  cmr  2002  ...                        Cameroon    22.929046\n",
              "1577  cmr  2006  ...                        Cameroon     5.707867\n",
              "4607  lka  1982  ...                       Sri Lanka          inf\n",
              "3671  irn  2001  ...                            Iran    32.144258\n",
              "1258  bwa  2008  ...                        Botswana     1.309976\n",
              "1885  cub  1996  ...                            Cuba  4516.280181\n",
              "3973  jpn  2000  ...                           Japan     1.909637\n",
              "7858  tur  2012  ...                          Turkey     1.101792\n",
              "6105  pan  1960  ...                          Panama          inf\n",
              "7811  tun  2011  ...                         Tunisia     0.868725\n",
              "2232  dza  1979  ...                         Algeria          inf\n",
              "5051  mdv  2012  ...                        Maldives     0.688975\n",
              "5170  mkd  2003  ...                  Macedonia, FYR     2.646168\n",
              "8198  vct  1989  ...  St. Vincent and the Grenadines          inf\n",
              "1209  btn  2005  ...                          Bhutan    18.239972\n",
              "7251  svn  2012  ...                        Slovenia     0.919341\n",
              "2985  gmb  2003  ...                          Gambia     9.070288\n",
              "4543  lca  1982  ...                       St. Lucia          inf\n",
              "6492  pse  2003  ...                       Palestine    13.028839\n",
              "8427  yem  1992  ...                           Yemen  8597.150323\n",
              "8086  ury  2012  ...                         Uruguay     0.679973\n",
              "495   bdi  1978  ...                         Burundi          inf\n",
              "5097  mex  2012  ...                          Mexico     1.199560\n",
              "719   bgr  1960  ...                        Bulgaria          inf\n",
              "5763  nic  1986  ...                       Nicaragua          inf\n",
              "7974  uga  1992  ...                          Uganda          inf\n",
              "5404  moz  1994  ...                      Mozambique          inf\n",
              "3237  guy  1981  ...                          Guyana          inf\n",
              "8083  ury  2009  ...                         Uruguay     0.817878\n",
              "1530  civ  2005  ...                   Cote d'Ivoire     7.804545\n",
              "3969  jpn  1996  ...                           Japan     4.707189\n",
              "5737  nga  2006  ...                         Nigeria     4.412264\n",
              "\n",
              "[50 rows x 6 columns]"
            ]
          },
          "metadata": {
            "tags": []
          },
          "execution_count": 28
        }
      ]
    },
    {
      "cell_type": "code",
      "metadata": {
        "id": "wn62ZB-W2Mkx",
        "colab_type": "code",
        "colab": {}
      },
      "source": [
        ""
      ],
      "execution_count": 0,
      "outputs": []
    },
    {
      "cell_type": "markdown",
      "metadata": {
        "id": "j2xDq7MAKRjg",
        "colab_type": "text"
      },
      "source": [
        "### Part 4 - Process data\n",
        "\n",
        "Use the describe function, to describe your dataframe's numeric columns, and then its non-numeric columns.\n",
        "\n",
        "(You'll see the time period ranges from 1960 to 2017, and there are 195 unique countries represented.)"
      ]
    },
    {
      "cell_type": "code",
      "metadata": {
        "id": "Bw0tyy2xcz5S",
        "colab_type": "code",
        "colab": {
          "base_uri": "https://localhost:8080/",
          "height": 35
        },
        "outputId": "b441cd96-4b6c-4b4b-f9aa-eacc2f5d53d8"
      },
      "source": [
        "merged1.shape"
      ],
      "execution_count": 90,
      "outputs": [
        {
          "output_type": "execute_result",
          "data": {
            "text/plain": [
              "(8590, 5)"
            ]
          },
          "metadata": {
            "tags": []
          },
          "execution_count": 90
        }
      ]
    },
    {
      "cell_type": "code",
      "metadata": {
        "id": "4Hx9FnwAc7Z4",
        "colab_type": "code",
        "colab": {
          "base_uri": "https://localhost:8080/",
          "height": 666
        },
        "outputId": "0ee900be-ffec-4584-c7ec-983708bbaf21"
      },
      "source": [
        "merged1.tail(20)"
      ],
      "execution_count": 93,
      "outputs": [
        {
          "output_type": "execute_result",
          "data": {
            "text/html": [
              "<div>\n",
              "<style scoped>\n",
              "    .dataframe tbody tr th:only-of-type {\n",
              "        vertical-align: middle;\n",
              "    }\n",
              "\n",
              "    .dataframe tbody tr th {\n",
              "        vertical-align: top;\n",
              "    }\n",
              "\n",
              "    .dataframe thead th {\n",
              "        text-align: right;\n",
              "    }\n",
              "</style>\n",
              "<table border=\"1\" class=\"dataframe\">\n",
              "  <thead>\n",
              "    <tr style=\"text-align: right;\">\n",
              "      <th></th>\n",
              "      <th>geo</th>\n",
              "      <th>time</th>\n",
              "      <th>cell_phones_total</th>\n",
              "      <th>population_total</th>\n",
              "      <th>country</th>\n",
              "    </tr>\n",
              "  </thead>\n",
              "  <tbody>\n",
              "    <tr>\n",
              "      <th>8570</th>\n",
              "      <td>zwe</td>\n",
              "      <td>1998</td>\n",
              "      <td>19000.0</td>\n",
              "      <td>11893272</td>\n",
              "      <td>Zimbabwe</td>\n",
              "    </tr>\n",
              "    <tr>\n",
              "      <th>8571</th>\n",
              "      <td>zwe</td>\n",
              "      <td>1999</td>\n",
              "      <td>174000.0</td>\n",
              "      <td>12064537</td>\n",
              "      <td>Zimbabwe</td>\n",
              "    </tr>\n",
              "    <tr>\n",
              "      <th>8572</th>\n",
              "      <td>zwe</td>\n",
              "      <td>2000</td>\n",
              "      <td>266441.0</td>\n",
              "      <td>12222251</td>\n",
              "      <td>Zimbabwe</td>\n",
              "    </tr>\n",
              "    <tr>\n",
              "      <th>8573</th>\n",
              "      <td>zwe</td>\n",
              "      <td>2001</td>\n",
              "      <td>314002.0</td>\n",
              "      <td>12366165</td>\n",
              "      <td>Zimbabwe</td>\n",
              "    </tr>\n",
              "    <tr>\n",
              "      <th>8574</th>\n",
              "      <td>zwe</td>\n",
              "      <td>2002</td>\n",
              "      <td>338779.0</td>\n",
              "      <td>12500525</td>\n",
              "      <td>Zimbabwe</td>\n",
              "    </tr>\n",
              "    <tr>\n",
              "      <th>8575</th>\n",
              "      <td>zwe</td>\n",
              "      <td>2003</td>\n",
              "      <td>363651.0</td>\n",
              "      <td>12633897</td>\n",
              "      <td>Zimbabwe</td>\n",
              "    </tr>\n",
              "    <tr>\n",
              "      <th>8576</th>\n",
              "      <td>zwe</td>\n",
              "      <td>2004</td>\n",
              "      <td>425745.0</td>\n",
              "      <td>12777511</td>\n",
              "      <td>Zimbabwe</td>\n",
              "    </tr>\n",
              "    <tr>\n",
              "      <th>8577</th>\n",
              "      <td>zwe</td>\n",
              "      <td>2005</td>\n",
              "      <td>647110.0</td>\n",
              "      <td>12940032</td>\n",
              "      <td>Zimbabwe</td>\n",
              "    </tr>\n",
              "    <tr>\n",
              "      <th>8578</th>\n",
              "      <td>zwe</td>\n",
              "      <td>2006</td>\n",
              "      <td>849146.0</td>\n",
              "      <td>13124267</td>\n",
              "      <td>Zimbabwe</td>\n",
              "    </tr>\n",
              "    <tr>\n",
              "      <th>8579</th>\n",
              "      <td>zwe</td>\n",
              "      <td>2007</td>\n",
              "      <td>1225654.0</td>\n",
              "      <td>13329909</td>\n",
              "      <td>Zimbabwe</td>\n",
              "    </tr>\n",
              "    <tr>\n",
              "      <th>8580</th>\n",
              "      <td>zwe</td>\n",
              "      <td>2008</td>\n",
              "      <td>1654721.0</td>\n",
              "      <td>13558469</td>\n",
              "      <td>Zimbabwe</td>\n",
              "    </tr>\n",
              "    <tr>\n",
              "      <th>8581</th>\n",
              "      <td>zwe</td>\n",
              "      <td>2009</td>\n",
              "      <td>3991000.0</td>\n",
              "      <td>13810599</td>\n",
              "      <td>Zimbabwe</td>\n",
              "    </tr>\n",
              "    <tr>\n",
              "      <th>8582</th>\n",
              "      <td>zwe</td>\n",
              "      <td>2010</td>\n",
              "      <td>7700000.0</td>\n",
              "      <td>14086317</td>\n",
              "      <td>Zimbabwe</td>\n",
              "    </tr>\n",
              "    <tr>\n",
              "      <th>8583</th>\n",
              "      <td>zwe</td>\n",
              "      <td>2011</td>\n",
              "      <td>9200000.0</td>\n",
              "      <td>14386649</td>\n",
              "      <td>Zimbabwe</td>\n",
              "    </tr>\n",
              "    <tr>\n",
              "      <th>8584</th>\n",
              "      <td>zwe</td>\n",
              "      <td>2012</td>\n",
              "      <td>12613935.0</td>\n",
              "      <td>14710826</td>\n",
              "      <td>Zimbabwe</td>\n",
              "    </tr>\n",
              "    <tr>\n",
              "      <th>8585</th>\n",
              "      <td>zwe</td>\n",
              "      <td>2013</td>\n",
              "      <td>13633167.0</td>\n",
              "      <td>15054506</td>\n",
              "      <td>Zimbabwe</td>\n",
              "    </tr>\n",
              "    <tr>\n",
              "      <th>8586</th>\n",
              "      <td>zwe</td>\n",
              "      <td>2014</td>\n",
              "      <td>11798652.0</td>\n",
              "      <td>15411675</td>\n",
              "      <td>Zimbabwe</td>\n",
              "    </tr>\n",
              "    <tr>\n",
              "      <th>8587</th>\n",
              "      <td>zwe</td>\n",
              "      <td>2015</td>\n",
              "      <td>12757410.0</td>\n",
              "      <td>15777451</td>\n",
              "      <td>Zimbabwe</td>\n",
              "    </tr>\n",
              "    <tr>\n",
              "      <th>8588</th>\n",
              "      <td>zwe</td>\n",
              "      <td>2016</td>\n",
              "      <td>12878926.0</td>\n",
              "      <td>16150362</td>\n",
              "      <td>Zimbabwe</td>\n",
              "    </tr>\n",
              "    <tr>\n",
              "      <th>8589</th>\n",
              "      <td>zwe</td>\n",
              "      <td>2017</td>\n",
              "      <td>14092104.0</td>\n",
              "      <td>16529904</td>\n",
              "      <td>Zimbabwe</td>\n",
              "    </tr>\n",
              "  </tbody>\n",
              "</table>\n",
              "</div>"
            ],
            "text/plain": [
              "      geo  time  cell_phones_total  population_total   country\n",
              "8570  zwe  1998            19000.0          11893272  Zimbabwe\n",
              "8571  zwe  1999           174000.0          12064537  Zimbabwe\n",
              "8572  zwe  2000           266441.0          12222251  Zimbabwe\n",
              "8573  zwe  2001           314002.0          12366165  Zimbabwe\n",
              "8574  zwe  2002           338779.0          12500525  Zimbabwe\n",
              "8575  zwe  2003           363651.0          12633897  Zimbabwe\n",
              "8576  zwe  2004           425745.0          12777511  Zimbabwe\n",
              "8577  zwe  2005           647110.0          12940032  Zimbabwe\n",
              "8578  zwe  2006           849146.0          13124267  Zimbabwe\n",
              "8579  zwe  2007          1225654.0          13329909  Zimbabwe\n",
              "8580  zwe  2008          1654721.0          13558469  Zimbabwe\n",
              "8581  zwe  2009          3991000.0          13810599  Zimbabwe\n",
              "8582  zwe  2010          7700000.0          14086317  Zimbabwe\n",
              "8583  zwe  2011          9200000.0          14386649  Zimbabwe\n",
              "8584  zwe  2012         12613935.0          14710826  Zimbabwe\n",
              "8585  zwe  2013         13633167.0          15054506  Zimbabwe\n",
              "8586  zwe  2014         11798652.0          15411675  Zimbabwe\n",
              "8587  zwe  2015         12757410.0          15777451  Zimbabwe\n",
              "8588  zwe  2016         12878926.0          16150362  Zimbabwe\n",
              "8589  zwe  2017         14092104.0          16529904  Zimbabwe"
            ]
          },
          "metadata": {
            "tags": []
          },
          "execution_count": 93
        }
      ]
    },
    {
      "cell_type": "code",
      "metadata": {
        "id": "pm1wDvvEbpsM",
        "colab_type": "code",
        "colab": {
          "base_uri": "https://localhost:8080/",
          "height": 125
        },
        "outputId": "82bc3909-00fd-4022-e5c9-07e681ea17fe"
      },
      "source": [
        "merged1['time'].head()"
      ],
      "execution_count": 88,
      "outputs": [
        {
          "output_type": "execute_result",
          "data": {
            "text/plain": [
              "0    1960\n",
              "1    1965\n",
              "2    1970\n",
              "3    1975\n",
              "4    1976\n",
              "Name: time, dtype: int64"
            ]
          },
          "metadata": {
            "tags": []
          },
          "execution_count": 88
        }
      ]
    },
    {
      "cell_type": "code",
      "metadata": {
        "id": "X8X0GR0Rb8Wo",
        "colab_type": "code",
        "colab": {
          "base_uri": "https://localhost:8080/",
          "height": 125
        },
        "outputId": "c272a000-e2d3-48e4-cfe5-d1611635366f"
      },
      "source": [
        "merged1['time'].tail()\n"
      ],
      "execution_count": 85,
      "outputs": [
        {
          "output_type": "execute_result",
          "data": {
            "text/plain": [
              "8585    2013\n",
              "8586    2014\n",
              "8587    2015\n",
              "8588    2016\n",
              "8589    2017\n",
              "Name: time, dtype: int64"
            ]
          },
          "metadata": {
            "tags": []
          },
          "execution_count": 85
        }
      ]
    },
    {
      "cell_type": "code",
      "metadata": {
        "id": "7uTdL8eFKWTz",
        "colab_type": "code",
        "colab": {
          "base_uri": "https://localhost:8080/",
          "height": 295
        },
        "outputId": "86ead4f8-10a2-4d45-ab7f-b30428019ff5"
      },
      "source": [
        "merged1.describe()"
      ],
      "execution_count": 56,
      "outputs": [
        {
          "output_type": "execute_result",
          "data": {
            "text/html": [
              "<div>\n",
              "<style scoped>\n",
              "    .dataframe tbody tr th:only-of-type {\n",
              "        vertical-align: middle;\n",
              "    }\n",
              "\n",
              "    .dataframe tbody tr th {\n",
              "        vertical-align: top;\n",
              "    }\n",
              "\n",
              "    .dataframe thead th {\n",
              "        text-align: right;\n",
              "    }\n",
              "</style>\n",
              "<table border=\"1\" class=\"dataframe\">\n",
              "  <thead>\n",
              "    <tr style=\"text-align: right;\">\n",
              "      <th></th>\n",
              "      <th>time</th>\n",
              "      <th>cell_phones_total</th>\n",
              "      <th>population_total</th>\n",
              "    </tr>\n",
              "  </thead>\n",
              "  <tbody>\n",
              "    <tr>\n",
              "      <th>count</th>\n",
              "      <td>8590.000000</td>\n",
              "      <td>8.590000e+03</td>\n",
              "      <td>8.590000e+03</td>\n",
              "    </tr>\n",
              "    <tr>\n",
              "      <th>mean</th>\n",
              "      <td>1994.193481</td>\n",
              "      <td>9.004950e+06</td>\n",
              "      <td>2.983823e+07</td>\n",
              "    </tr>\n",
              "    <tr>\n",
              "      <th>std</th>\n",
              "      <td>14.257975</td>\n",
              "      <td>5.573408e+07</td>\n",
              "      <td>1.161284e+08</td>\n",
              "    </tr>\n",
              "    <tr>\n",
              "      <th>min</th>\n",
              "      <td>1960.000000</td>\n",
              "      <td>0.000000e+00</td>\n",
              "      <td>4.433000e+03</td>\n",
              "    </tr>\n",
              "    <tr>\n",
              "      <th>25%</th>\n",
              "      <td>1983.000000</td>\n",
              "      <td>0.000000e+00</td>\n",
              "      <td>1.456148e+06</td>\n",
              "    </tr>\n",
              "    <tr>\n",
              "      <th>50%</th>\n",
              "      <td>1995.000000</td>\n",
              "      <td>6.200000e+03</td>\n",
              "      <td>5.725062e+06</td>\n",
              "    </tr>\n",
              "    <tr>\n",
              "      <th>75%</th>\n",
              "      <td>2006.000000</td>\n",
              "      <td>1.697652e+06</td>\n",
              "      <td>1.810581e+07</td>\n",
              "    </tr>\n",
              "    <tr>\n",
              "      <th>max</th>\n",
              "      <td>2017.000000</td>\n",
              "      <td>1.474097e+09</td>\n",
              "      <td>1.409517e+09</td>\n",
              "    </tr>\n",
              "  </tbody>\n",
              "</table>\n",
              "</div>"
            ],
            "text/plain": [
              "              time  cell_phones_total  population_total\n",
              "count  8590.000000       8.590000e+03      8.590000e+03\n",
              "mean   1994.193481       9.004950e+06      2.983823e+07\n",
              "std      14.257975       5.573408e+07      1.161284e+08\n",
              "min    1960.000000       0.000000e+00      4.433000e+03\n",
              "25%    1983.000000       0.000000e+00      1.456148e+06\n",
              "50%    1995.000000       6.200000e+03      5.725062e+06\n",
              "75%    2006.000000       1.697652e+06      1.810581e+07\n",
              "max    2017.000000       1.474097e+09      1.409517e+09"
            ]
          },
          "metadata": {
            "tags": []
          },
          "execution_count": 56
        }
      ]
    },
    {
      "cell_type": "code",
      "metadata": {
        "id": "uidTGuugZctv",
        "colab_type": "code",
        "colab": {
          "base_uri": "https://localhost:8080/",
          "height": 35
        },
        "outputId": "d55a9fa2-a712-4d83-b5d3-bba946cff8c9"
      },
      "source": [
        "merged1.columns"
      ],
      "execution_count": 58,
      "outputs": [
        {
          "output_type": "execute_result",
          "data": {
            "text/plain": [
              "Index(['geo', 'time', 'cell_phones_total', 'population_total', 'country'], dtype='object')"
            ]
          },
          "metadata": {
            "tags": []
          },
          "execution_count": 58
        }
      ]
    },
    {
      "cell_type": "code",
      "metadata": {
        "id": "l5semricZ0hq",
        "colab_type": "code",
        "colab": {
          "base_uri": "https://localhost:8080/",
          "height": 35
        },
        "outputId": "6b78176b-63c0-49d3-b0f7-b40c9293ea35"
      },
      "source": [
        "merged1['geo'].dtype"
      ],
      "execution_count": 61,
      "outputs": [
        {
          "output_type": "execute_result",
          "data": {
            "text/plain": [
              "dtype('O')"
            ]
          },
          "metadata": {
            "tags": []
          },
          "execution_count": 61
        }
      ]
    },
    {
      "cell_type": "code",
      "metadata": {
        "id": "o9OHa_N2Z-5A",
        "colab_type": "code",
        "colab": {
          "base_uri": "https://localhost:8080/",
          "height": 35
        },
        "outputId": "bea6df87-50b2-4b1f-c9a2-7ec2fd6a6404"
      },
      "source": [
        "merged1['time'].dtype"
      ],
      "execution_count": 63,
      "outputs": [
        {
          "output_type": "execute_result",
          "data": {
            "text/plain": [
              "dtype('int64')"
            ]
          },
          "metadata": {
            "tags": []
          },
          "execution_count": 63
        }
      ]
    },
    {
      "cell_type": "code",
      "metadata": {
        "id": "GE-Upj_0aDMi",
        "colab_type": "code",
        "colab": {
          "base_uri": "https://localhost:8080/",
          "height": 125
        },
        "outputId": "9c8be0b6-d85e-4e6f-b96e-5d78a276bb5c"
      },
      "source": [
        "merged1.dtypes"
      ],
      "execution_count": 76,
      "outputs": [
        {
          "output_type": "execute_result",
          "data": {
            "text/plain": [
              "geo                   object\n",
              "time                   int64\n",
              "cell_phones_total    float64\n",
              "population_total       int64\n",
              "country               object\n",
              "dtype: object"
            ]
          },
          "metadata": {
            "tags": []
          },
          "execution_count": 76
        }
      ]
    },
    {
      "cell_type": "code",
      "metadata": {
        "id": "i6sUgH5pbB-j",
        "colab_type": "code",
        "colab": {
          "base_uri": "https://localhost:8080/",
          "height": 295
        },
        "outputId": "f7d7e7bd-a322-4971-884f-fede6a604959"
      },
      "source": [
        "merged1[['time', 'cell_phones_total', 'population_total']].describe()"
      ],
      "execution_count": 79,
      "outputs": [
        {
          "output_type": "execute_result",
          "data": {
            "text/html": [
              "<div>\n",
              "<style scoped>\n",
              "    .dataframe tbody tr th:only-of-type {\n",
              "        vertical-align: middle;\n",
              "    }\n",
              "\n",
              "    .dataframe tbody tr th {\n",
              "        vertical-align: top;\n",
              "    }\n",
              "\n",
              "    .dataframe thead th {\n",
              "        text-align: right;\n",
              "    }\n",
              "</style>\n",
              "<table border=\"1\" class=\"dataframe\">\n",
              "  <thead>\n",
              "    <tr style=\"text-align: right;\">\n",
              "      <th></th>\n",
              "      <th>time</th>\n",
              "      <th>cell_phones_total</th>\n",
              "      <th>population_total</th>\n",
              "    </tr>\n",
              "  </thead>\n",
              "  <tbody>\n",
              "    <tr>\n",
              "      <th>count</th>\n",
              "      <td>8590.000000</td>\n",
              "      <td>8.590000e+03</td>\n",
              "      <td>8.590000e+03</td>\n",
              "    </tr>\n",
              "    <tr>\n",
              "      <th>mean</th>\n",
              "      <td>1994.193481</td>\n",
              "      <td>9.004950e+06</td>\n",
              "      <td>2.983823e+07</td>\n",
              "    </tr>\n",
              "    <tr>\n",
              "      <th>std</th>\n",
              "      <td>14.257975</td>\n",
              "      <td>5.573408e+07</td>\n",
              "      <td>1.161284e+08</td>\n",
              "    </tr>\n",
              "    <tr>\n",
              "      <th>min</th>\n",
              "      <td>1960.000000</td>\n",
              "      <td>0.000000e+00</td>\n",
              "      <td>4.433000e+03</td>\n",
              "    </tr>\n",
              "    <tr>\n",
              "      <th>25%</th>\n",
              "      <td>1983.000000</td>\n",
              "      <td>0.000000e+00</td>\n",
              "      <td>1.456148e+06</td>\n",
              "    </tr>\n",
              "    <tr>\n",
              "      <th>50%</th>\n",
              "      <td>1995.000000</td>\n",
              "      <td>6.200000e+03</td>\n",
              "      <td>5.725062e+06</td>\n",
              "    </tr>\n",
              "    <tr>\n",
              "      <th>75%</th>\n",
              "      <td>2006.000000</td>\n",
              "      <td>1.697652e+06</td>\n",
              "      <td>1.810581e+07</td>\n",
              "    </tr>\n",
              "    <tr>\n",
              "      <th>max</th>\n",
              "      <td>2017.000000</td>\n",
              "      <td>1.474097e+09</td>\n",
              "      <td>1.409517e+09</td>\n",
              "    </tr>\n",
              "  </tbody>\n",
              "</table>\n",
              "</div>"
            ],
            "text/plain": [
              "              time  cell_phones_total  population_total\n",
              "count  8590.000000       8.590000e+03      8.590000e+03\n",
              "mean   1994.193481       9.004950e+06      2.983823e+07\n",
              "std      14.257975       5.573408e+07      1.161284e+08\n",
              "min    1960.000000       0.000000e+00      4.433000e+03\n",
              "25%    1983.000000       0.000000e+00      1.456148e+06\n",
              "50%    1995.000000       6.200000e+03      5.725062e+06\n",
              "75%    2006.000000       1.697652e+06      1.810581e+07\n",
              "max    2017.000000       1.474097e+09      1.409517e+09"
            ]
          },
          "metadata": {
            "tags": []
          },
          "execution_count": 79
        }
      ]
    },
    {
      "cell_type": "code",
      "metadata": {
        "id": "JKfs1ivwbIHv",
        "colab_type": "code",
        "colab": {
          "base_uri": "https://localhost:8080/",
          "height": 172
        },
        "outputId": "8e1198a8-f613-4497-cb29-7f73c4038213"
      },
      "source": [
        "merged1[['geo', 'country']].describe()"
      ],
      "execution_count": 80,
      "outputs": [
        {
          "output_type": "execute_result",
          "data": {
            "text/html": [
              "<div>\n",
              "<style scoped>\n",
              "    .dataframe tbody tr th:only-of-type {\n",
              "        vertical-align: middle;\n",
              "    }\n",
              "\n",
              "    .dataframe tbody tr th {\n",
              "        vertical-align: top;\n",
              "    }\n",
              "\n",
              "    .dataframe thead th {\n",
              "        text-align: right;\n",
              "    }\n",
              "</style>\n",
              "<table border=\"1\" class=\"dataframe\">\n",
              "  <thead>\n",
              "    <tr style=\"text-align: right;\">\n",
              "      <th></th>\n",
              "      <th>geo</th>\n",
              "      <th>country</th>\n",
              "    </tr>\n",
              "  </thead>\n",
              "  <tbody>\n",
              "    <tr>\n",
              "      <th>count</th>\n",
              "      <td>8590</td>\n",
              "      <td>8590</td>\n",
              "    </tr>\n",
              "    <tr>\n",
              "      <th>unique</th>\n",
              "      <td>195</td>\n",
              "      <td>195</td>\n",
              "    </tr>\n",
              "    <tr>\n",
              "      <th>top</th>\n",
              "      <td>slb</td>\n",
              "      <td>Macedonia, FYR</td>\n",
              "    </tr>\n",
              "    <tr>\n",
              "      <th>freq</th>\n",
              "      <td>46</td>\n",
              "      <td>46</td>\n",
              "    </tr>\n",
              "  </tbody>\n",
              "</table>\n",
              "</div>"
            ],
            "text/plain": [
              "         geo         country\n",
              "count   8590            8590\n",
              "unique   195             195\n",
              "top      slb  Macedonia, FYR\n",
              "freq      46              46"
            ]
          },
          "metadata": {
            "tags": []
          },
          "execution_count": 80
        }
      ]
    },
    {
      "cell_type": "code",
      "metadata": {
        "id": "Nn53OdCKaN6V",
        "colab_type": "code",
        "colab": {
          "base_uri": "https://localhost:8080/",
          "height": 35
        },
        "outputId": "dd5168a7-0150-4530-c931-95e25eb4469b"
      },
      "source": [
        "merged1['geo'].nunique()"
      ],
      "execution_count": 73,
      "outputs": [
        {
          "output_type": "execute_result",
          "data": {
            "text/plain": [
              "195"
            ]
          },
          "metadata": {
            "tags": []
          },
          "execution_count": 73
        }
      ]
    },
    {
      "cell_type": "code",
      "metadata": {
        "id": "3he40zSsavqO",
        "colab_type": "code",
        "colab": {
          "base_uri": "https://localhost:8080/",
          "height": 35
        },
        "outputId": "9e12a049-31b8-4f0f-f0cb-f4bcce6d8142"
      },
      "source": [
        "merged1['country'].nunique()\n"
      ],
      "execution_count": 75,
      "outputs": [
        {
          "output_type": "execute_result",
          "data": {
            "text/plain": [
              "195"
            ]
          },
          "metadata": {
            "tags": []
          },
          "execution_count": 75
        }
      ]
    },
    {
      "cell_type": "markdown",
      "metadata": {
        "id": "KXEmo_HdKy_5",
        "colab_type": "text"
      },
      "source": [
        "In 2017, what were the top 5 countries with the most cell phones total?\n",
        "\n",
        "Your list of countries should have these totals:\n",
        "\n",
        "| country | cell phones total |\n",
        "|:-------:|:-----------------:|\n",
        "|    ?    |     1,474,097,000 |\n",
        "|    ?    |     1,168,902,277 |\n",
        "|    ?    |       458,923,202 |\n",
        "|    ?    |       395,881,000 |\n",
        "|    ?    |       236,488,548 |\n"
      ]
    },
    {
      "cell_type": "code",
      "metadata": {
        "id": "NbCVBsBIK06K",
        "colab_type": "code",
        "colab": {}
      },
      "source": [
        "new_toy = merged1[merged1.isin([2017]).any(axis=1)]"
      ],
      "execution_count": 0,
      "outputs": []
    },
    {
      "cell_type": "code",
      "metadata": {
        "id": "yUYQpVzLgljT",
        "colab_type": "code",
        "colab": {
          "base_uri": "https://localhost:8080/",
          "height": 79
        },
        "outputId": "d06a828d-cbd6-4d52-8bd8-146fbd6eb087"
      },
      "source": [
        "new_toy.sample()"
      ],
      "execution_count": 98,
      "outputs": [
        {
          "output_type": "execute_result",
          "data": {
            "text/html": [
              "<div>\n",
              "<style scoped>\n",
              "    .dataframe tbody tr th:only-of-type {\n",
              "        vertical-align: middle;\n",
              "    }\n",
              "\n",
              "    .dataframe tbody tr th {\n",
              "        vertical-align: top;\n",
              "    }\n",
              "\n",
              "    .dataframe thead th {\n",
              "        text-align: right;\n",
              "    }\n",
              "</style>\n",
              "<table border=\"1\" class=\"dataframe\">\n",
              "  <thead>\n",
              "    <tr style=\"text-align: right;\">\n",
              "      <th></th>\n",
              "      <th>geo</th>\n",
              "      <th>time</th>\n",
              "      <th>cell_phones_total</th>\n",
              "      <th>population_total</th>\n",
              "      <th>country</th>\n",
              "    </tr>\n",
              "  </thead>\n",
              "  <tbody>\n",
              "    <tr>\n",
              "      <th>8406</th>\n",
              "      <td>wsm</td>\n",
              "      <td>2017</td>\n",
              "      <td>124211.0</td>\n",
              "      <td>196440</td>\n",
              "      <td>Samoa</td>\n",
              "    </tr>\n",
              "  </tbody>\n",
              "</table>\n",
              "</div>"
            ],
            "text/plain": [
              "      geo  time  cell_phones_total  population_total country\n",
              "8406  wsm  2017           124211.0            196440   Samoa"
            ]
          },
          "metadata": {
            "tags": []
          },
          "execution_count": 98
        }
      ]
    },
    {
      "cell_type": "code",
      "metadata": {
        "id": "MiXmws6_hJdf",
        "colab_type": "code",
        "colab": {
          "base_uri": "https://localhost:8080/",
          "height": 417
        },
        "outputId": "1cbb9cb1-66df-4f31-b556-b0803fe1cff3"
      },
      "source": [
        "new_toy.sort_values(by='cell_phones_total', ascending=False)"
      ],
      "execution_count": 104,
      "outputs": [
        {
          "output_type": "execute_result",
          "data": {
            "text/html": [
              "<div>\n",
              "<style scoped>\n",
              "    .dataframe tbody tr th:only-of-type {\n",
              "        vertical-align: middle;\n",
              "    }\n",
              "\n",
              "    .dataframe tbody tr th {\n",
              "        vertical-align: top;\n",
              "    }\n",
              "\n",
              "    .dataframe thead th {\n",
              "        text-align: right;\n",
              "    }\n",
              "</style>\n",
              "<table border=\"1\" class=\"dataframe\">\n",
              "  <thead>\n",
              "    <tr style=\"text-align: right;\">\n",
              "      <th></th>\n",
              "      <th>geo</th>\n",
              "      <th>time</th>\n",
              "      <th>cell_phones_total</th>\n",
              "      <th>population_total</th>\n",
              "      <th>country</th>\n",
              "    </tr>\n",
              "  </thead>\n",
              "  <tbody>\n",
              "    <tr>\n",
              "      <th>1496</th>\n",
              "      <td>chn</td>\n",
              "      <td>2017</td>\n",
              "      <td>1.474097e+09</td>\n",
              "      <td>1409517397</td>\n",
              "      <td>China</td>\n",
              "    </tr>\n",
              "    <tr>\n",
              "      <th>3595</th>\n",
              "      <td>ind</td>\n",
              "      <td>2017</td>\n",
              "      <td>1.168902e+09</td>\n",
              "      <td>1339180127</td>\n",
              "      <td>India</td>\n",
              "    </tr>\n",
              "    <tr>\n",
              "      <th>3549</th>\n",
              "      <td>idn</td>\n",
              "      <td>2017</td>\n",
              "      <td>4.589232e+08</td>\n",
              "      <td>263991379</td>\n",
              "      <td>Indonesia</td>\n",
              "    </tr>\n",
              "    <tr>\n",
              "      <th>8134</th>\n",
              "      <td>usa</td>\n",
              "      <td>2017</td>\n",
              "      <td>3.958810e+08</td>\n",
              "      <td>324459463</td>\n",
              "      <td>United States</td>\n",
              "    </tr>\n",
              "    <tr>\n",
              "      <th>1084</th>\n",
              "      <td>bra</td>\n",
              "      <td>2017</td>\n",
              "      <td>2.364885e+08</td>\n",
              "      <td>209288278</td>\n",
              "      <td>Brazil</td>\n",
              "    </tr>\n",
              "    <tr>\n",
              "      <th>...</th>\n",
              "      <td>...</td>\n",
              "      <td>...</td>\n",
              "      <td>...</td>\n",
              "      <td>...</td>\n",
              "      <td>...</td>\n",
              "    </tr>\n",
              "    <tr>\n",
              "      <th>4596</th>\n",
              "      <td>lie</td>\n",
              "      <td>2017</td>\n",
              "      <td>4.662500e+04</td>\n",
              "      <td>37922</td>\n",
              "      <td>Liechtenstein</td>\n",
              "    </tr>\n",
              "    <tr>\n",
              "      <th>4220</th>\n",
              "      <td>kir</td>\n",
              "      <td>2017</td>\n",
              "      <td>4.612300e+04</td>\n",
              "      <td>116398</td>\n",
              "      <td>Kiribati</td>\n",
              "    </tr>\n",
              "    <tr>\n",
              "      <th>7005</th>\n",
              "      <td>smr</td>\n",
              "      <td>2017</td>\n",
              "      <td>3.800000e+04</td>\n",
              "      <td>33400</td>\n",
              "      <td>San Marino</td>\n",
              "    </tr>\n",
              "    <tr>\n",
              "      <th>4918</th>\n",
              "      <td>mco</td>\n",
              "      <td>2017</td>\n",
              "      <td>3.297800e+04</td>\n",
              "      <td>38695</td>\n",
              "      <td>Monaco</td>\n",
              "    </tr>\n",
              "    <tr>\n",
              "      <th>2725</th>\n",
              "      <td>fsm</td>\n",
              "      <td>2017</td>\n",
              "      <td>2.311400e+04</td>\n",
              "      <td>105544</td>\n",
              "      <td>Micronesia, Fed. Sts.</td>\n",
              "    </tr>\n",
              "  </tbody>\n",
              "</table>\n",
              "<p>168 rows × 5 columns</p>\n",
              "</div>"
            ],
            "text/plain": [
              "      geo  time  cell_phones_total  population_total                country\n",
              "1496  chn  2017       1.474097e+09        1409517397                  China\n",
              "3595  ind  2017       1.168902e+09        1339180127                  India\n",
              "3549  idn  2017       4.589232e+08         263991379              Indonesia\n",
              "8134  usa  2017       3.958810e+08         324459463          United States\n",
              "1084  bra  2017       2.364885e+08         209288278                 Brazil\n",
              "...   ...   ...                ...               ...                    ...\n",
              "4596  lie  2017       4.662500e+04             37922          Liechtenstein\n",
              "4220  kir  2017       4.612300e+04            116398               Kiribati\n",
              "7005  smr  2017       3.800000e+04             33400             San Marino\n",
              "4918  mco  2017       3.297800e+04             38695                 Monaco\n",
              "2725  fsm  2017       2.311400e+04            105544  Micronesia, Fed. Sts.\n",
              "\n",
              "[168 rows x 5 columns]"
            ]
          },
          "metadata": {
            "tags": []
          },
          "execution_count": 104
        }
      ]
    },
    {
      "cell_type": "markdown",
      "metadata": {
        "id": "w2d9UuC5hvIq",
        "colab_type": "text"
      },
      "source": [
        "Answer: China, India, Indonesia, United States, Brazil"
      ]
    },
    {
      "cell_type": "markdown",
      "metadata": {
        "id": "RcBnaSW_LYSk",
        "colab_type": "text"
      },
      "source": [
        "## Data Storytelling\n",
        "\n",
        "In this part of the sprint challenge you'll work with a dataset from **FiveThirtyEight's article, [Every Guest Jon Stewart Ever Had On ‘The Daily Show’](https://fivethirtyeight.com/features/every-guest-jon-stewart-ever-had-on-the-daily-show/)**!"
      ]
    },
    {
      "cell_type": "markdown",
      "metadata": {
        "id": "t0vUeBgBLcby",
        "colab_type": "text"
      },
      "source": [
        "### Part 0 — Run this starter code\n",
        "\n",
        "You don't need to add or change anything here. Just run this cell and it loads the data for you, into a dataframe named `df`.\n",
        "\n",
        "(You can explore the data if you want, but it's not required to pass the Sprint Challenge.)"
      ]
    },
    {
      "cell_type": "code",
      "metadata": {
        "id": "pc7YmWvlLas5",
        "colab_type": "code",
        "colab": {}
      },
      "source": [
        "%matplotlib inline\n",
        "import matplotlib.pyplot as plt\n",
        "import numpy as np\n",
        "import pandas as pd\n",
        "import seaborn as sns\n",
        "\n",
        "url = 'https://raw.githubusercontent.com/fivethirtyeight/data/master/daily-show-guests/daily_show_guests.csv'\n",
        "df = pd.read_csv(url).rename(columns={'YEAR': 'Year', 'Raw_Guest_List': 'Guest'})\n",
        "\n",
        "def get_occupation(group):\n",
        "    if group in ['Acting', 'Comedy', 'Musician']:\n",
        "        return 'Acting, Comedy & Music'\n",
        "    elif group in ['Media', 'media']:\n",
        "        return 'Media'\n",
        "    elif group in ['Government', 'Politician', 'Political Aide']:\n",
        "        return 'Government and Politics'\n",
        "    else:\n",
        "        return 'Other'\n",
        "      \n",
        "df['Occupation'] = df['Group'].apply(get_occupation)"
      ],
      "execution_count": 0,
      "outputs": []
    },
    {
      "cell_type": "markdown",
      "metadata": {
        "id": "yisVUHiXLjv0",
        "colab_type": "text"
      },
      "source": [
        "### Part 1 — What's the breakdown of guests’ occupations per year?\n",
        "\n",
        "For example, in 1999, what percentage of guests were actors, comedians, or musicians? What percentage were in the media? What percentage were in politics? What percentage were from another occupation?\n",
        "\n",
        "Then, what about in 2000? In 2001? And so on, up through 2015.\n",
        "\n",
        "So, **for each year of _The Daily Show_, calculate the percentage of guests from each occupation:**\n",
        "- Acting, Comedy & Music\n",
        "- Government and Politics\n",
        "- Media\n",
        "- Other\n",
        "\n",
        "#### Hints:\n",
        "\n",
        "- You can make a crosstab. \n",
        "- You're going to want occupations as the column indexes and years as the row indexes\n",
        "- Use the `normalize` parameter to get percentages by year.\n",
        "\n",
        "You'll know you've calculated correctly when the percentage of \"Acting, Comedy & Music\" guests is 90.36% in 1999, and 45% in 2015."
      ]
    },
    {
      "cell_type": "code",
      "metadata": {
        "colab_type": "code",
        "id": "M2JKCKaQRCAU",
        "colab": {
          "base_uri": "https://localhost:8080/",
          "height": 275
        },
        "outputId": "0486f213-4780-4dcb-baed-ca54008b9166"
      },
      "source": [
        "fun_crosstab = pd.crosstab(df.Occupation, df.Year, normalize='columns')*100\n",
        "fun_crosstab"
      ],
      "execution_count": 200,
      "outputs": [
        {
          "output_type": "execute_result",
          "data": {
            "text/html": [
              "<div>\n",
              "<style scoped>\n",
              "    .dataframe tbody tr th:only-of-type {\n",
              "        vertical-align: middle;\n",
              "    }\n",
              "\n",
              "    .dataframe tbody tr th {\n",
              "        vertical-align: top;\n",
              "    }\n",
              "\n",
              "    .dataframe thead th {\n",
              "        text-align: right;\n",
              "    }\n",
              "</style>\n",
              "<table border=\"1\" class=\"dataframe\">\n",
              "  <thead>\n",
              "    <tr style=\"text-align: right;\">\n",
              "      <th>Year</th>\n",
              "      <th>1999</th>\n",
              "      <th>2000</th>\n",
              "      <th>2001</th>\n",
              "      <th>2002</th>\n",
              "      <th>2003</th>\n",
              "      <th>2004</th>\n",
              "      <th>2005</th>\n",
              "      <th>2006</th>\n",
              "      <th>2007</th>\n",
              "      <th>2008</th>\n",
              "      <th>2009</th>\n",
              "      <th>2010</th>\n",
              "      <th>2011</th>\n",
              "      <th>2012</th>\n",
              "      <th>2013</th>\n",
              "      <th>2014</th>\n",
              "      <th>2015</th>\n",
              "    </tr>\n",
              "    <tr>\n",
              "      <th>Occupation</th>\n",
              "      <th></th>\n",
              "      <th></th>\n",
              "      <th></th>\n",
              "      <th></th>\n",
              "      <th></th>\n",
              "      <th></th>\n",
              "      <th></th>\n",
              "      <th></th>\n",
              "      <th></th>\n",
              "      <th></th>\n",
              "      <th></th>\n",
              "      <th></th>\n",
              "      <th></th>\n",
              "      <th></th>\n",
              "      <th></th>\n",
              "      <th></th>\n",
              "      <th></th>\n",
              "    </tr>\n",
              "  </thead>\n",
              "  <tbody>\n",
              "    <tr>\n",
              "      <th>Acting, Comedy &amp; Music</th>\n",
              "      <td>90.361446</td>\n",
              "      <td>73.964497</td>\n",
              "      <td>72.611465</td>\n",
              "      <td>62.264151</td>\n",
              "      <td>56.024096</td>\n",
              "      <td>38.414634</td>\n",
              "      <td>37.037037</td>\n",
              "      <td>36.024845</td>\n",
              "      <td>25.531915</td>\n",
              "      <td>20.731707</td>\n",
              "      <td>20.858896</td>\n",
              "      <td>35.151515</td>\n",
              "      <td>33.742331</td>\n",
              "      <td>26.829268</td>\n",
              "      <td>42.771084</td>\n",
              "      <td>39.263804</td>\n",
              "      <td>45.0</td>\n",
              "    </tr>\n",
              "    <tr>\n",
              "      <th>Government and Politics</th>\n",
              "      <td>1.204819</td>\n",
              "      <td>8.284024</td>\n",
              "      <td>3.821656</td>\n",
              "      <td>6.918239</td>\n",
              "      <td>10.240964</td>\n",
              "      <td>22.560976</td>\n",
              "      <td>16.049383</td>\n",
              "      <td>19.254658</td>\n",
              "      <td>17.021277</td>\n",
              "      <td>20.121951</td>\n",
              "      <td>20.858896</td>\n",
              "      <td>18.181818</td>\n",
              "      <td>16.564417</td>\n",
              "      <td>20.121951</td>\n",
              "      <td>12.650602</td>\n",
              "      <td>12.883436</td>\n",
              "      <td>17.0</td>\n",
              "    </tr>\n",
              "    <tr>\n",
              "      <th>Media</th>\n",
              "      <td>6.626506</td>\n",
              "      <td>12.426036</td>\n",
              "      <td>19.745223</td>\n",
              "      <td>26.415094</td>\n",
              "      <td>24.698795</td>\n",
              "      <td>27.439024</td>\n",
              "      <td>33.333333</td>\n",
              "      <td>29.192547</td>\n",
              "      <td>33.333333</td>\n",
              "      <td>46.951220</td>\n",
              "      <td>36.196319</td>\n",
              "      <td>30.303030</td>\n",
              "      <td>31.288344</td>\n",
              "      <td>31.707317</td>\n",
              "      <td>30.722892</td>\n",
              "      <td>32.515337</td>\n",
              "      <td>24.0</td>\n",
              "    </tr>\n",
              "    <tr>\n",
              "      <th>Other</th>\n",
              "      <td>1.807229</td>\n",
              "      <td>5.325444</td>\n",
              "      <td>3.821656</td>\n",
              "      <td>4.402516</td>\n",
              "      <td>9.036145</td>\n",
              "      <td>11.585366</td>\n",
              "      <td>13.580247</td>\n",
              "      <td>15.527950</td>\n",
              "      <td>24.113475</td>\n",
              "      <td>12.195122</td>\n",
              "      <td>22.085890</td>\n",
              "      <td>16.363636</td>\n",
              "      <td>18.404908</td>\n",
              "      <td>21.341463</td>\n",
              "      <td>13.855422</td>\n",
              "      <td>15.337423</td>\n",
              "      <td>14.0</td>\n",
              "    </tr>\n",
              "  </tbody>\n",
              "</table>\n",
              "</div>"
            ],
            "text/plain": [
              "Year                          1999       2000  ...       2014  2015\n",
              "Occupation                                     ...                 \n",
              "Acting, Comedy & Music   90.361446  73.964497  ...  39.263804  45.0\n",
              "Government and Politics   1.204819   8.284024  ...  12.883436  17.0\n",
              "Media                     6.626506  12.426036  ...  32.515337  24.0\n",
              "Other                     1.807229   5.325444  ...  15.337423  14.0\n",
              "\n",
              "[4 rows x 17 columns]"
            ]
          },
          "metadata": {
            "tags": []
          },
          "execution_count": 200
        }
      ]
    },
    {
      "cell_type": "code",
      "metadata": {
        "id": "gAZliFqmlnNt",
        "colab_type": "code",
        "colab": {
          "base_uri": "https://localhost:8080/",
          "height": 35
        },
        "outputId": "6c055ce2-7bd0-4167-883e-5d005e065a80"
      },
      "source": [
        "fun_crosstab.shape"
      ],
      "execution_count": 201,
      "outputs": [
        {
          "output_type": "execute_result",
          "data": {
            "text/plain": [
              "(4, 17)"
            ]
          },
          "metadata": {
            "tags": []
          },
          "execution_count": 201
        }
      ]
    },
    {
      "cell_type": "markdown",
      "metadata": {
        "id": "UthoeNABLwau",
        "colab_type": "text"
      },
      "source": [
        "### Part 2 — Recreate this explanatory visualization:\n",
        "\n"
      ]
    },
    {
      "cell_type": "code",
      "metadata": {
        "id": "oy9dt9l6Lz18",
        "colab_type": "code",
        "outputId": "d0fa079b-608d-43a0-d3b7-aaf6f04feb57",
        "colab": {
          "base_uri": "https://localhost:8080/",
          "height": 406
        }
      },
      "source": [
        "from IPython.display import display, Image\n",
        "png = 'https://fivethirtyeight.com/wp-content/uploads/2015/08/hickey-datalab-dailyshow.png'\n",
        "example = Image(png, width=500)\n",
        "display(example)"
      ],
      "execution_count": 202,
      "outputs": [
        {
          "output_type": "display_data",
          "data": {
            "image/png": "[encoded data removed]",
            "text/plain": [
              "<IPython.core.display.Image object>"
            ]
          },
          "metadata": {
            "tags": [],
            "image/png": {
              "width": 500
            }
          }
        }
      ]
    },
    {
      "cell_type": "markdown",
      "metadata": {
        "id": "WEHUhxlTL2w2",
        "colab_type": "text"
      },
      "source": [
        "**Hints:**\n",
        "- You can choose any Python visualization library you want. I've verified the plot can be reproduced with matplotlib, pandas plot, or seaborn. I assume other libraries like altair or plotly would work too.\n",
        "\n",
        "**Expectations:** Your plot should include:\n",
        "- 3 lines visualizing \"occupation of guests, by year.\" The shapes of the lines should look roughly identical to 538's example. Each line should be a different color. (But you don't need to use the _same_ colors as 538.)\n",
        "- Legend **or** labels for the lines. (But **you don't need each label positioned next to its line or colored like 538.**)\n",
        "- Title in the upper left: _\"Who Got To Be On 'The Daily Show'?\"_ with more visual emphasis than the subtitle. (Bolder and/or larger font.)\n",
        "- Subtitle underneath the title: _\"Occupation of guests, by year\"_"
      ]
    },
    {
      "cell_type": "code",
      "metadata": {
        "id": "J-T3IU__L0ih",
        "colab_type": "code",
        "colab": {}
      },
      "source": [
        "import seaborn as sns\n",
        "import numpy as np\n",
        "import matplotlib.pyplot as plt"
      ],
      "execution_count": 0,
      "outputs": []
    },
    {
      "cell_type": "code",
      "metadata": {
        "id": "_bAemlARoXbc",
        "colab_type": "code",
        "colab": {
          "base_uri": "https://localhost:8080/",
          "height": 71
        },
        "outputId": "168b76f8-29ea-41f9-ae37-3bbf74435fda"
      },
      "source": [
        "df.columns"
      ],
      "execution_count": 204,
      "outputs": [
        {
          "output_type": "execute_result",
          "data": {
            "text/plain": [
              "Index(['Year', 'GoogleKnowlege_Occupation', 'Show', 'Group', 'Guest',\n",
              "       'Occupation'],\n",
              "      dtype='object')"
            ]
          },
          "metadata": {
            "tags": []
          },
          "execution_count": 204
        }
      ]
    },
    {
      "cell_type": "code",
      "metadata": {
        "id": "gP90yPz_vN-1",
        "colab_type": "code",
        "colab": {
          "base_uri": "https://localhost:8080/",
          "height": 89
        },
        "outputId": "d8cdfae6-289a-43a5-f465-8d518cca62a4"
      },
      "source": [
        "df['Group'].unique()"
      ],
      "execution_count": 174,
      "outputs": [
        {
          "output_type": "execute_result",
          "data": {
            "text/plain": [
              "array(['Acting', 'Comedy', 'Musician', 'Media', nan, 'Politician',\n",
              "       'Athletics', 'Business', 'Advocacy', 'Political Aide', 'Misc',\n",
              "       'Academic', 'Government', 'media', 'Clergy', 'Science',\n",
              "       'Consultant', 'Military'], dtype=object)"
            ]
          },
          "metadata": {
            "tags": []
          },
          "execution_count": 174
        }
      ]
    },
    {
      "cell_type": "code",
      "metadata": {
        "id": "UosNNihPukF2",
        "colab_type": "code",
        "colab": {
          "base_uri": "https://localhost:8080/",
          "height": 53
        },
        "outputId": "289ff1dc-4a97-403a-e9a3-de352f4d2c84"
      },
      "source": [
        "df['Occupation'].unique()"
      ],
      "execution_count": 172,
      "outputs": [
        {
          "output_type": "execute_result",
          "data": {
            "text/plain": [
              "array(['Acting, Comedy & Music', 'Media', 'Other',\n",
              "       'Government and Politics'], dtype=object)"
            ]
          },
          "metadata": {
            "tags": []
          },
          "execution_count": 172
        }
      ]
    },
    {
      "cell_type": "code",
      "metadata": {
        "id": "gQXra5A_o-PD",
        "colab_type": "code",
        "colab": {}
      },
      "source": [
        "new_crosstab = pd.crosstab(df.Year, df.Occupation, normalize='index')*100\n"
      ],
      "execution_count": 0,
      "outputs": []
    },
    {
      "cell_type": "code",
      "metadata": {
        "id": "nanx7D7jpRFj",
        "colab_type": "code",
        "colab": {}
      },
      "source": [
        "year = new_crosstab.index.tolist()"
      ],
      "execution_count": 0,
      "outputs": []
    },
    {
      "cell_type": "code",
      "metadata": {
        "id": "c7hxPg88pwOt",
        "colab_type": "code",
        "colab": {}
      },
      "source": [
        "# Setting FiveThirtyEight style\n",
        "plt.style.use('fivethirtyeight')\n",
        "\n",
        "# Setting size of our plot\n",
        "fig, ax = plt.subplots(figsize=(8,6))"
      ],
      "execution_count": 0,
      "outputs": []
    },
    {
      "cell_type": "code",
      "metadata": {
        "id": "BpqM_BKbqQra",
        "colab_type": "code",
        "colab": {
          "base_uri": "https://localhost:8080/",
          "height": 404
        },
        "outputId": "eb34d33b-b913-4260-9818-646bff372f64"
      },
      "source": [
        "\n"
      ],
      "execution_count": 208,
      "outputs": [
        {
          "output_type": "display_data",
          "data": {
            "image/png": "[encoded data removed]",
            "text/plain": [
              "<Figure size 576x432 with 1 Axes>"
            ]
          },
          "metadata": {
            "tags": []
          }
        }
      ]
    },
    {
      "cell_type": "code",
      "metadata": {
        "id": "z8fZP_QCpxgp",
        "colab_type": "code",
        "colab": {
          "base_uri": "https://localhost:8080/",
          "height": 295
        },
        "outputId": "4b16a38e-47d9-42bf-a0a8-2b5d2cf95684"
      },
      "source": [
        "# Plotting each occupation category\n",
        "ax1 = sns.lineplot(x=year, y=new_crosstab['Acting, Comedy & Music'].tolist(), color='#0F95D7', lw=2.5)\n",
        "ax2 = sns.lineplot(x=year, y=new_crosstab['Government and Politics'].tolist(), color='#FF2700', lw=2.5)\n",
        "ax3 = sns.lineplot(x=year, y=new_crosstab['Media'].tolist(), color='#810F7C', lw=2.5)\n",
        "\n",
        "plt.ylim(-5,110)\n",
        "\n",
        "ax1.axhline(y=0, color='#414141', linewidth=1.5, alpha=.5);\n",
        "\n",
        "ax.set_yticks([0, 25, 50, 75, 100])\n",
        "ax.set_yticklabels(labels=['0', '25', '50', '75', '100%'], fontsize=14, color='#414141')\n",
        "\n",
        "ax.set_xticks([2000, 2004, 2008, 2012])\n",
        "ax.set_xticklabels(['2000', '2004', '20008', '2012'], fontsize=14, color='#414141')\n",
        "\n",
        "ax.text(x=1996.7, y=118, s=\"Who Got to Be On 'The Daily Show'?\", fontsize=18.5, fontweight='semibold', color='#414141')\n",
        "ax.text(x=1996.7, y=112, s='Occupation of guests, by year', fontsize=16.5, color='#414141')\n",
        "\n",
        "ax.text(x=2000.5, y=81, s=\"Acting, Comedy & Music\", fontsize=13, fontweight='semibold', color='#0F95D7')\n",
        "ax.text(x=2008.5, y=6, s=\"Government and Politics\", fontsize=13, fontweight='semibold', color='#FF2700')\n",
        "ax.text(x=2007.1, y=52, s=\"Media\", fontsize=13, fontweight='semibold', color='#810F7C')\n",
        "\n",
        "ax1.text(x = 1996.7, y = -18.5,\n",
        "    s = '   ©Bjorn  ',\n",
        "    fontsize = 14, color = '#f0f0f0', backgroundcolor = '#414141');\n"
      ],
      "execution_count": 213,
      "outputs": [
        {
          "output_type": "display_data",
          "data": {
            "image/png": "[encoded data removed]",
            "text/plain": [
              "<Figure size 432x288 with 1 Axes>"
            ]
          },
          "metadata": {
            "tags": []
          }
        }
      ]
    },
    {
      "cell_type": "code",
      "metadata": {
        "id": "TRyrDS6Uqy7U",
        "colab_type": "code",
        "colab": {}
      },
      "source": [
        ""
      ],
      "execution_count": 0,
      "outputs": []
    },
    {
      "cell_type": "code",
      "metadata": {
        "id": "Ux1lTLPKsiQt",
        "colab_type": "code",
        "colab": {}
      },
      "source": [
        "ax1.axhline(y=0, color='#414141', linewidth=1.5, alpha=.5);"
      ],
      "execution_count": 0,
      "outputs": []
    },
    {
      "cell_type": "code",
      "metadata": {
        "id": "q2sUyDfYs4ol",
        "colab_type": "code",
        "colab": {
          "base_uri": "https://localhost:8080/",
          "height": 107
        },
        "outputId": "cbc97a41-52db-4c3a-f420-1ef7898027e8"
      },
      "source": [
        "ax.set_yticks([0, 25, 50, 75, 100])\n",
        "ax.set_yticklabels(labels=['0', '25', '50', '75', '100%'], fontsize=14, color='#414141')"
      ],
      "execution_count": 194,
      "outputs": [
        {
          "output_type": "execute_result",
          "data": {
            "text/plain": [
              "[Text(0, 0.0, '0'),\n",
              " Text(0, 0.2, '25'),\n",
              " Text(0, 0.4, '50'),\n",
              " Text(0, 0.6000000000000001, '75'),\n",
              " Text(0, 0.8, '100%')]"
            ]
          },
          "metadata": {
            "tags": []
          },
          "execution_count": 194
        }
      ]
    },
    {
      "cell_type": "code",
      "metadata": {
        "id": "gUBBJh9Gs6EP",
        "colab_type": "code",
        "colab": {
          "base_uri": "https://localhost:8080/",
          "height": 89
        },
        "outputId": "208ea046-39cc-4040-dff4-bf2aae000e4d"
      },
      "source": [
        "ax.set_xticks([2000, 2004, 2008, 2012])\n",
        "ax.set_xticklabels(['2000', '2004', '20008', '2012'], fontsize=14, color='#414141')"
      ],
      "execution_count": 195,
      "outputs": [
        {
          "output_type": "execute_result",
          "data": {
            "text/plain": [
              "[Text(0.0, 0, '2000'),\n",
              " Text(0.2, 0, '2004'),\n",
              " Text(0.4, 0, '20008'),\n",
              " Text(0.6000000000000001, 0, '2012')]"
            ]
          },
          "metadata": {
            "tags": []
          },
          "execution_count": 195
        }
      ]
    },
    {
      "cell_type": "code",
      "metadata": {
        "id": "avx85cOXtARs",
        "colab_type": "code",
        "colab": {
          "base_uri": "https://localhost:8080/",
          "height": 35
        },
        "outputId": "cd8e6db9-9afb-408b-a25f-f3c3b45a7d0f"
      },
      "source": [
        "ax.text(x=1996.7, y=118, s=\"Who Got to Be On 'The Daily Show'?\", fontsize=18.5, fontweight='semibold', color='#414141')\n"
      ],
      "execution_count": 196,
      "outputs": [
        {
          "output_type": "execute_result",
          "data": {
            "text/plain": [
              "Text(1996.7, 118, \"Who Got to Be On 'The Daily Show'?\")"
            ]
          },
          "metadata": {
            "tags": []
          },
          "execution_count": 196
        }
      ]
    },
    {
      "cell_type": "code",
      "metadata": {
        "id": "VrU9G0hYtKYD",
        "colab_type": "code",
        "colab": {
          "base_uri": "https://localhost:8080/",
          "height": 35
        },
        "outputId": "da2ac5b0-3813-468c-95c3-ec4ab8b007fc"
      },
      "source": [
        "ax.text(x=1996.7, y=112, s='Occupation of guests, by year', fontsize=16.5, color='#414141')\n"
      ],
      "execution_count": 197,
      "outputs": [
        {
          "output_type": "execute_result",
          "data": {
            "text/plain": [
              "Text(1996.7, 112, 'Occupation of guests, by year')"
            ]
          },
          "metadata": {
            "tags": []
          },
          "execution_count": 197
        }
      ]
    },
    {
      "cell_type": "code",
      "metadata": {
        "id": "yZOsuwZdtUV2",
        "colab_type": "code",
        "colab": {
          "base_uri": "https://localhost:8080/",
          "height": 35
        },
        "outputId": "53372701-6dbd-4d22-e505-73d4d88d4b04"
      },
      "source": [
        "ax.text(x=2000.5, y=81, s=\"Acting, Comedy & Music\", fontsize=13, fontweight='semibold', color='#0F95D7')\n",
        "ax.text(x=2008.5, y=6, s=\"Government and Politics\", fontsize=13, fontweight='semibold', color='#FF2700')\n",
        "ax.text(x=2007.1, y=52, s=\"Media\", fontsize=13, fontweight='semibold', color='#810F7C')"
      ],
      "execution_count": 198,
      "outputs": [
        {
          "output_type": "execute_result",
          "data": {
            "text/plain": [
              "Text(2007.1, 52, 'Media')"
            ]
          },
          "metadata": {
            "tags": []
          },
          "execution_count": 198
        }
      ]
    },
    {
      "cell_type": "code",
      "metadata": {
        "id": "Fo4DAelAto5v",
        "colab_type": "code",
        "colab": {}
      },
      "source": [
        "ax1.text(x = 1996.7, y = -18.5,\n",
        "    s = '   ©Bjorn  ',\n",
        "    fontsize = 14, color = '#f0f0f0', backgroundcolor = '#414141');"
      ],
      "execution_count": 0,
      "outputs": []
    },
    {
      "cell_type": "markdown",
      "metadata": {
        "id": "svbK28PWNCic",
        "colab_type": "text"
      },
      "source": [
        "## How to get a 3 on this Sprint Challenge:\n",
        "\n",
        "Once you have completed the above making a solid attempt at each section, if you still have time remaining, you can go back and do any of the following to get a score of 3 on the above sections. Remember that everything in this section is **optional** and that we will average your scores between the different sections, so get the easy points first!\n",
        "\n",
        "Complete any of the following **within** their corresponding sections in the Sprint Challenge (go back up and add these thigns):\n",
        "\n",
        "### Data Wrangling Section 1\n",
        "\n",
        "Filter the `cell_phones` dataframe to only include information about the USA and China and then remake the scatterplot. \n",
        "\n",
        "### Data Wrangling Section 2\n",
        "\n",
        "Explain why we are using an \"inner\" join when we merge these dataframes. \n",
        "\n",
        "### Data Wrangling Section 3\n",
        "\n",
        "Modify the geo column to make the geo codes uppercase instead of lowercase.\n",
        "\n",
        "### Data Wrangling Section 4\n",
        "\n",
        "2017 was the first year that China had more cell phones than people.\n",
        "\n",
        "What was the first year that the USA had more cell phones than people?\n",
        "\n",
        "### Data Storytelling \n",
        "\n",
        "Keep on working on your graph to make it look particularly like the 538 graph by manipulating the graph's background color, the line colors, the x and y axis tick marks/labels, and adding a subtitle. \n",
        "\n",
        "If you have already completed everything else, take this as far as you can within the time limit.\n"
      ]
    },
    {
      "cell_type": "code",
      "metadata": {
        "id": "n3D6XJa90Hwu",
        "colab_type": "code",
        "colab": {}
      },
      "source": [
        "#Data Wrangling Section 1 ---- \n",
        "\n",
        "cell_phones_smaller = cell_phones.loc[[]]"
      ],
      "execution_count": 0,
      "outputs": []
    },
    {
      "cell_type": "code",
      "metadata": {
        "id": "yrMJvHMGehx8",
        "colab_type": "code",
        "colab": {}
      },
      "source": [
        "#Data Wrangling Section 2 ---- the data is only relevant when there are common values"
      ],
      "execution_count": 0,
      "outputs": []
    },
    {
      "cell_type": "code",
      "metadata": {
        "id": "ZLs7P7QqzRLy",
        "colab_type": "code",
        "colab": {
          "base_uri": "https://localhost:8080/",
          "height": 53
        },
        "outputId": "47d7ceb8-878c-4b6d-b7df-f743554fc248"
      },
      "source": [
        "#Data Wrangling Section 3\n",
        "\n",
        "geo_country_codes['geo'] = geo_country_codes['geo'].str.upper()\n",
        "geo_country_codes['geo'].sample()"
      ],
      "execution_count": 218,
      "outputs": [
        {
          "output_type": "execute_result",
          "data": {
            "text/plain": [
              "39    CAN\n",
              "Name: geo, dtype: object"
            ]
          },
          "metadata": {
            "tags": []
          },
          "execution_count": 218
        }
      ]
    },
    {
      "cell_type": "code",
      "metadata": {
        "id": "4uJVqhcBz71A",
        "colab_type": "code",
        "colab": {}
      },
      "source": [
        "#Data Wrangling Section 4\n",
        "\n"
      ],
      "execution_count": 0,
      "outputs": []
    }
  ]
}