{
  "nbformat": 4,
  "nbformat_minor": 0,
  "metadata": {
    "colab": {
      "name": "Bjorn_LS_DS_113_Join_and_Reshape_Data_Assignment.ipynb",
      "provenance": [],
      "collapsed_sections": [],
      "include_colab_link": true
    },
    "kernelspec": {
      "display_name": "Python 3",
      "language": "python",
      "name": "python3"
    }
  },
  "cells": [
    {
      "cell_type": "markdown",
      "metadata": {
        "id": "view-in-github",
        "colab_type": "text"
      },
      "source": [
        "<a href=\"https://colab.research.google.com/github/goldenbear7/DS-Unit-1-Sprint-1-Data-Wrangling-and-Storytelling/blob/master/Bjorn_LS_DS_113_Join_and_Reshape_Data_Assignment.ipynb\" target=\"_parent\"><img src=\"https://colab.research.google.com/assets/colab-badge.svg\" alt=\"Open In Colab\"/></a>"
      ]
    },
    {
      "cell_type": "markdown",
      "metadata": {
        "colab_type": "text",
        "id": "pmU5YUal1eTZ"
      },
      "source": [
        "Lambda School Data Science\n",
        "\n",
        "*Unit 1, Sprint 1, Module 3*\n",
        "\n",
        "---\n",
        "\n",
        "# Join and Reshape datasets\n",
        "\n",
        "Objectives\n",
        "- concatenate data with pandas\n",
        "- merge data with pandas\n",
        "-  understand tidy data formatting\n",
        "-  melt and pivot data with pandas\n",
        "\n",
        "Links\n",
        "- [Pandas Cheat Sheet](https://github.com/pandas-dev/pandas/blob/master/doc/cheatsheet/Pandas_Cheat_Sheet.pdf)\n",
        "- [Tidy Data](https://en.wikipedia.org/wiki/Tidy_data)\n",
        "  - Combine Data Sets: Standard Joins\n",
        "  - Tidy Data\n",
        "  - Reshaping Data\n",
        "- Python Data Science Handbook\n",
        "  - [Chapter 3.6](https://jakevdp.github.io/PythonDataScienceHandbook/03.06-concat-and-append.html), Combining Datasets: Concat and Append\n",
        "  - [Chapter 3.7](https://jakevdp.github.io/PythonDataScienceHandbook/03.07-merge-and-join.html), Combining Datasets: Merge and Join\n",
        "  - [Chapter 3.8](https://jakevdp.github.io/PythonDataScienceHandbook/03.08-aggregation-and-grouping.html), Aggregation and Grouping\n",
        "  - [Chapter 3.9](https://jakevdp.github.io/PythonDataScienceHandbook/03.09-pivot-tables.html), Pivot Tables\n",
        "  \n",
        "Reference\n",
        "- Pandas Documentation: [Reshaping and Pivot Tables](https://pandas.pydata.org/pandas-docs/stable/reshaping.html)\n",
        "- Modern Pandas, Part 5: [Tidy Data](https://tomaugspurger.github.io/modern-5-tidy.html)"
      ]
    },
    {
      "cell_type": "code",
      "metadata": {
        "id": "5MsWLLW4Xg_i",
        "colab_type": "code",
        "outputId": "4aefaa5a-b8ff-4bfa-d6f4-f7542ed809e2",
        "colab": {
          "base_uri": "https://localhost:8080/",
          "height": 213
        }
      },
      "source": [
        "!wget https://s3.amazonaws.com/instacart-datasets/instacart_online_grocery_shopping_2017_05_01.tar.gz"
      ],
      "execution_count": 1,
      "outputs": [
        {
          "output_type": "stream",
          "text": [
            "--2019-11-06 02:16:40--  https://s3.amazonaws.com/instacart-datasets/instacart_online_grocery_shopping_2017_05_01.tar.gz\n",
            "Resolving s3.amazonaws.com (s3.amazonaws.com)... 52.216.98.245\n",
            "Connecting to s3.amazonaws.com (s3.amazonaws.com)|52.216.98.245|:443... connected.\n",
            "HTTP request sent, awaiting response... 200 OK\n",
            "Length: 205548478 (196M) [application/x-gzip]\n",
            "Saving to: ‘instacart_online_grocery_shopping_2017_05_01.tar.gz’\n",
            "\n",
            "instacart_online_gr 100%[===================>] 196.03M  35.2MB/s    in 6.1s    \n",
            "\n",
            "2019-11-06 02:16:46 (32.1 MB/s) - ‘instacart_online_grocery_shopping_2017_05_01.tar.gz’ saved [205548478/205548478]\n",
            "\n"
          ],
          "name": "stdout"
        }
      ]
    },
    {
      "cell_type": "code",
      "metadata": {
        "id": "gfr4_Ya0XkLI",
        "colab_type": "code",
        "outputId": "da91dd57-810f-4050-8185-740aa8bec61a",
        "colab": {
          "base_uri": "https://localhost:8080/",
          "height": 248
        }
      },
      "source": [
        "!tar --gunzip --extract --verbose --file=instacart_online_grocery_shopping_2017_05_01.tar.gz"
      ],
      "execution_count": 2,
      "outputs": [
        {
          "output_type": "stream",
          "text": [
            "instacart_2017_05_01/\n",
            "instacart_2017_05_01/._aisles.csv\n",
            "instacart_2017_05_01/aisles.csv\n",
            "instacart_2017_05_01/._departments.csv\n",
            "instacart_2017_05_01/departments.csv\n",
            "instacart_2017_05_01/._order_products__prior.csv\n",
            "instacart_2017_05_01/order_products__prior.csv\n",
            "instacart_2017_05_01/._order_products__train.csv\n",
            "instacart_2017_05_01/order_products__train.csv\n",
            "instacart_2017_05_01/._orders.csv\n",
            "instacart_2017_05_01/orders.csv\n",
            "instacart_2017_05_01/._products.csv\n",
            "instacart_2017_05_01/products.csv\n"
          ],
          "name": "stdout"
        }
      ]
    },
    {
      "cell_type": "code",
      "metadata": {
        "id": "N4YyGPNdXrT0",
        "colab_type": "code",
        "outputId": "fc87f257-bc12-4732-e486-f6074ae16d0a",
        "colab": {
          "base_uri": "https://localhost:8080/",
          "height": 35
        }
      },
      "source": [
        "%cd instacart_2017_05_01"
      ],
      "execution_count": 3,
      "outputs": [
        {
          "output_type": "stream",
          "text": [
            "/content/instacart_2017_05_01\n"
          ],
          "name": "stdout"
        }
      ]
    },
    {
      "cell_type": "code",
      "metadata": {
        "id": "b26wmLUiXtlM",
        "colab_type": "code",
        "outputId": "7d5df217-12c5-4c38-f50a-f15c0a514806",
        "colab": {
          "base_uri": "https://localhost:8080/",
          "height": 124
        }
      },
      "source": [
        "!ls -lh *.csv"
      ],
      "execution_count": 4,
      "outputs": [
        {
          "output_type": "stream",
          "text": [
            "-rw-r--r-- 1 502 staff 2.6K May  2  2017 aisles.csv\n",
            "-rw-r--r-- 1 502 staff  270 May  2  2017 departments.csv\n",
            "-rw-r--r-- 1 502 staff 551M May  2  2017 order_products__prior.csv\n",
            "-rw-r--r-- 1 502 staff  24M May  2  2017 order_products__train.csv\n",
            "-rw-r--r-- 1 502 staff 104M May  2  2017 orders.csv\n",
            "-rw-r--r-- 1 502 staff 2.1M May  2  2017 products.csv\n"
          ],
          "name": "stdout"
        }
      ]
    },
    {
      "cell_type": "markdown",
      "metadata": {
        "colab_type": "text",
        "id": "kAMtvSQWPUcj"
      },
      "source": [
        "# Assignment\n",
        "\n",
        "## Join Data Practice\n",
        "\n",
        "These are the top 10 most frequently ordered products. How many times was each ordered? \n",
        "\n",
        "1. Banana\n",
        "2. Bag of Organic Bananas\n",
        "3. Organic Strawberries\n",
        "4. Organic Baby Spinach \n",
        "5. Organic Hass Avocado\n",
        "6. Organic Avocado\n",
        "7. Large Lemon \n",
        "8. Strawberries\n",
        "9. Limes \n",
        "10. Organic Whole Milk\n",
        "\n",
        "First, write down which columns you need and which dataframes have them.\n",
        "\n",
        "Next, merge these into a single dataframe.\n",
        "\n",
        "Then, use pandas functions from the previous lesson to get the counts of the top 10 most frequently ordered products."
      ]
    },
    {
      "cell_type": "code",
      "metadata": {
        "id": "vvE0EVHgXMFO",
        "colab_type": "code",
        "colab": {
          "base_uri": "https://localhost:8080/",
          "height": 35
        },
        "outputId": "1b8d877a-3eb9-4f7d-e257-24f6f859cc0c"
      },
      "source": [
        "import pandas as pd\n",
        "import numpy as np\n",
        "\n",
        "orders = pd.read_csv('orders.csv')\n",
        "orders.shape"
      ],
      "execution_count": 13,
      "outputs": [
        {
          "output_type": "execute_result",
          "data": {
            "text/plain": [
              "(3421083, 7)"
            ]
          },
          "metadata": {
            "tags": []
          },
          "execution_count": 13
        }
      ]
    },
    {
      "cell_type": "code",
      "metadata": {
        "id": "pxKwkEOXkyVs",
        "colab_type": "code",
        "colab": {
          "base_uri": "https://localhost:8080/",
          "height": 35
        },
        "outputId": "f2eb9b36-9a6e-46e9-8c67-81723253c1eb"
      },
      "source": [
        "products = pd.read_csv('products.csv')\n",
        "products.shape"
      ],
      "execution_count": 20,
      "outputs": [
        {
          "output_type": "execute_result",
          "data": {
            "text/plain": [
              "(49688, 4)"
            ]
          },
          "metadata": {
            "tags": []
          },
          "execution_count": 20
        }
      ]
    },
    {
      "cell_type": "code",
      "metadata": {
        "id": "ZH8trY_eltr5",
        "colab_type": "code",
        "colab": {
          "base_uri": "https://localhost:8080/",
          "height": 79
        },
        "outputId": "6a10217f-e235-49b6-eb9c-09a0bdc4f190"
      },
      "source": [
        "products.sample()"
      ],
      "execution_count": 17,
      "outputs": [
        {
          "output_type": "execute_result",
          "data": {
            "text/html": [
              "<div>\n",
              "<style scoped>\n",
              "    .dataframe tbody tr th:only-of-type {\n",
              "        vertical-align: middle;\n",
              "    }\n",
              "\n",
              "    .dataframe tbody tr th {\n",
              "        vertical-align: top;\n",
              "    }\n",
              "\n",
              "    .dataframe thead th {\n",
              "        text-align: right;\n",
              "    }\n",
              "</style>\n",
              "<table border=\"1\" class=\"dataframe\">\n",
              "  <thead>\n",
              "    <tr style=\"text-align: right;\">\n",
              "      <th></th>\n",
              "      <th>product_id</th>\n",
              "      <th>product_name</th>\n",
              "      <th>aisle_id</th>\n",
              "      <th>department_id</th>\n",
              "    </tr>\n",
              "  </thead>\n",
              "  <tbody>\n",
              "    <tr>\n",
              "      <th>45051</th>\n",
              "      <td>45052</td>\n",
              "      <td>Fast-Max Maximum Strength Cold Flu &amp; Sore Throat</td>\n",
              "      <td>11</td>\n",
              "      <td>11</td>\n",
              "    </tr>\n",
              "  </tbody>\n",
              "</table>\n",
              "</div>"
            ],
            "text/plain": [
              "       product_id  ... department_id\n",
              "45051       45052  ...            11\n",
              "\n",
              "[1 rows x 4 columns]"
            ]
          },
          "metadata": {
            "tags": []
          },
          "execution_count": 17
        }
      ]
    },
    {
      "cell_type": "code",
      "metadata": {
        "id": "c8bpIVNhl4hy",
        "colab_type": "code",
        "colab": {
          "base_uri": "https://localhost:8080/",
          "height": 79
        },
        "outputId": "ba34d166-0f43-4afa-cf92-b0319746c612"
      },
      "source": [
        "orders.sample()"
      ],
      "execution_count": 19,
      "outputs": [
        {
          "output_type": "execute_result",
          "data": {
            "text/html": [
              "<div>\n",
              "<style scoped>\n",
              "    .dataframe tbody tr th:only-of-type {\n",
              "        vertical-align: middle;\n",
              "    }\n",
              "\n",
              "    .dataframe tbody tr th {\n",
              "        vertical-align: top;\n",
              "    }\n",
              "\n",
              "    .dataframe thead th {\n",
              "        text-align: right;\n",
              "    }\n",
              "</style>\n",
              "<table border=\"1\" class=\"dataframe\">\n",
              "  <thead>\n",
              "    <tr style=\"text-align: right;\">\n",
              "      <th></th>\n",
              "      <th>order_id</th>\n",
              "      <th>user_id</th>\n",
              "      <th>eval_set</th>\n",
              "      <th>order_number</th>\n",
              "      <th>order_dow</th>\n",
              "      <th>order_hour_of_day</th>\n",
              "      <th>days_since_prior_order</th>\n",
              "    </tr>\n",
              "  </thead>\n",
              "  <tbody>\n",
              "    <tr>\n",
              "      <th>2589450</th>\n",
              "      <td>2336410</td>\n",
              "      <td>155880</td>\n",
              "      <td>prior</td>\n",
              "      <td>40</td>\n",
              "      <td>5</td>\n",
              "      <td>8</td>\n",
              "      <td>5.0</td>\n",
              "    </tr>\n",
              "  </tbody>\n",
              "</table>\n",
              "</div>"
            ],
            "text/plain": [
              "         order_id  user_id  ... order_hour_of_day  days_since_prior_order\n",
              "2589450   2336410   155880  ...                 8                     5.0\n",
              "\n",
              "[1 rows x 7 columns]"
            ]
          },
          "metadata": {
            "tags": []
          },
          "execution_count": 19
        }
      ]
    },
    {
      "cell_type": "code",
      "metadata": {
        "id": "TMIF55aLlX6H",
        "colab_type": "code",
        "colab": {}
      },
      "source": [
        "# merge orders and products into a single dataframe\n",
        "\n",
        "\n",
        "#first I am renaming the column for user_id into product_id so we can establish a key\n",
        "orders = orders.rename(columns={'user_id':'product_id',})\n",
        "\n",
        "\n"
      ],
      "execution_count": 0,
      "outputs": []
    },
    {
      "cell_type": "code",
      "metadata": {
        "id": "fh4SB5ZktjWB",
        "colab_type": "code",
        "colab": {
          "base_uri": "https://localhost:8080/",
          "height": 605
        },
        "outputId": "23904853-bb1e-4926-ac5b-c1c4cd31ada7"
      },
      "source": [
        "merged = pd.merge(orders, products, on = 'product_id', how = 'left')\n",
        "\n",
        "merged.shape\n",
        "\n",
        "merged\n"
      ],
      "execution_count": 37,
      "outputs": [
        {
          "output_type": "execute_result",
          "data": {
            "text/html": [
              "<div>\n",
              "<style scoped>\n",
              "    .dataframe tbody tr th:only-of-type {\n",
              "        vertical-align: middle;\n",
              "    }\n",
              "\n",
              "    .dataframe tbody tr th {\n",
              "        vertical-align: top;\n",
              "    }\n",
              "\n",
              "    .dataframe thead th {\n",
              "        text-align: right;\n",
              "    }\n",
              "</style>\n",
              "<table border=\"1\" class=\"dataframe\">\n",
              "  <thead>\n",
              "    <tr style=\"text-align: right;\">\n",
              "      <th></th>\n",
              "      <th>order_id</th>\n",
              "      <th>product_id</th>\n",
              "      <th>eval_set</th>\n",
              "      <th>order_number</th>\n",
              "      <th>order_dow</th>\n",
              "      <th>order_hour_of_day</th>\n",
              "      <th>days_since_prior_order</th>\n",
              "      <th>product_name</th>\n",
              "      <th>aisle_id</th>\n",
              "      <th>department_id</th>\n",
              "    </tr>\n",
              "  </thead>\n",
              "  <tbody>\n",
              "    <tr>\n",
              "      <th>0</th>\n",
              "      <td>2539329</td>\n",
              "      <td>1</td>\n",
              "      <td>prior</td>\n",
              "      <td>1</td>\n",
              "      <td>2</td>\n",
              "      <td>8</td>\n",
              "      <td>NaN</td>\n",
              "      <td>Chocolate Sandwich Cookies</td>\n",
              "      <td>61.0</td>\n",
              "      <td>19.0</td>\n",
              "    </tr>\n",
              "    <tr>\n",
              "      <th>1</th>\n",
              "      <td>2398795</td>\n",
              "      <td>1</td>\n",
              "      <td>prior</td>\n",
              "      <td>2</td>\n",
              "      <td>3</td>\n",
              "      <td>7</td>\n",
              "      <td>15.0</td>\n",
              "      <td>Chocolate Sandwich Cookies</td>\n",
              "      <td>61.0</td>\n",
              "      <td>19.0</td>\n",
              "    </tr>\n",
              "    <tr>\n",
              "      <th>2</th>\n",
              "      <td>473747</td>\n",
              "      <td>1</td>\n",
              "      <td>prior</td>\n",
              "      <td>3</td>\n",
              "      <td>3</td>\n",
              "      <td>12</td>\n",
              "      <td>21.0</td>\n",
              "      <td>Chocolate Sandwich Cookies</td>\n",
              "      <td>61.0</td>\n",
              "      <td>19.0</td>\n",
              "    </tr>\n",
              "    <tr>\n",
              "      <th>3</th>\n",
              "      <td>2254736</td>\n",
              "      <td>1</td>\n",
              "      <td>prior</td>\n",
              "      <td>4</td>\n",
              "      <td>4</td>\n",
              "      <td>7</td>\n",
              "      <td>29.0</td>\n",
              "      <td>Chocolate Sandwich Cookies</td>\n",
              "      <td>61.0</td>\n",
              "      <td>19.0</td>\n",
              "    </tr>\n",
              "    <tr>\n",
              "      <th>4</th>\n",
              "      <td>431534</td>\n",
              "      <td>1</td>\n",
              "      <td>prior</td>\n",
              "      <td>5</td>\n",
              "      <td>4</td>\n",
              "      <td>15</td>\n",
              "      <td>28.0</td>\n",
              "      <td>Chocolate Sandwich Cookies</td>\n",
              "      <td>61.0</td>\n",
              "      <td>19.0</td>\n",
              "    </tr>\n",
              "    <tr>\n",
              "      <th>...</th>\n",
              "      <td>...</td>\n",
              "      <td>...</td>\n",
              "      <td>...</td>\n",
              "      <td>...</td>\n",
              "      <td>...</td>\n",
              "      <td>...</td>\n",
              "      <td>...</td>\n",
              "      <td>...</td>\n",
              "      <td>...</td>\n",
              "      <td>...</td>\n",
              "    </tr>\n",
              "    <tr>\n",
              "      <th>3421078</th>\n",
              "      <td>2266710</td>\n",
              "      <td>206209</td>\n",
              "      <td>prior</td>\n",
              "      <td>10</td>\n",
              "      <td>5</td>\n",
              "      <td>18</td>\n",
              "      <td>29.0</td>\n",
              "      <td>NaN</td>\n",
              "      <td>NaN</td>\n",
              "      <td>NaN</td>\n",
              "    </tr>\n",
              "    <tr>\n",
              "      <th>3421079</th>\n",
              "      <td>1854736</td>\n",
              "      <td>206209</td>\n",
              "      <td>prior</td>\n",
              "      <td>11</td>\n",
              "      <td>4</td>\n",
              "      <td>10</td>\n",
              "      <td>30.0</td>\n",
              "      <td>NaN</td>\n",
              "      <td>NaN</td>\n",
              "      <td>NaN</td>\n",
              "    </tr>\n",
              "    <tr>\n",
              "      <th>3421080</th>\n",
              "      <td>626363</td>\n",
              "      <td>206209</td>\n",
              "      <td>prior</td>\n",
              "      <td>12</td>\n",
              "      <td>1</td>\n",
              "      <td>12</td>\n",
              "      <td>18.0</td>\n",
              "      <td>NaN</td>\n",
              "      <td>NaN</td>\n",
              "      <td>NaN</td>\n",
              "    </tr>\n",
              "    <tr>\n",
              "      <th>3421081</th>\n",
              "      <td>2977660</td>\n",
              "      <td>206209</td>\n",
              "      <td>prior</td>\n",
              "      <td>13</td>\n",
              "      <td>1</td>\n",
              "      <td>12</td>\n",
              "      <td>7.0</td>\n",
              "      <td>NaN</td>\n",
              "      <td>NaN</td>\n",
              "      <td>NaN</td>\n",
              "    </tr>\n",
              "    <tr>\n",
              "      <th>3421082</th>\n",
              "      <td>272231</td>\n",
              "      <td>206209</td>\n",
              "      <td>train</td>\n",
              "      <td>14</td>\n",
              "      <td>6</td>\n",
              "      <td>14</td>\n",
              "      <td>30.0</td>\n",
              "      <td>NaN</td>\n",
              "      <td>NaN</td>\n",
              "      <td>NaN</td>\n",
              "    </tr>\n",
              "  </tbody>\n",
              "</table>\n",
              "<p>3421083 rows × 10 columns</p>\n",
              "</div>"
            ],
            "text/plain": [
              "         order_id  product_id  ... aisle_id  department_id\n",
              "0         2539329           1  ...     61.0           19.0\n",
              "1         2398795           1  ...     61.0           19.0\n",
              "2          473747           1  ...     61.0           19.0\n",
              "3         2254736           1  ...     61.0           19.0\n",
              "4          431534           1  ...     61.0           19.0\n",
              "...           ...         ...  ...      ...            ...\n",
              "3421078   2266710      206209  ...      NaN            NaN\n",
              "3421079   1854736      206209  ...      NaN            NaN\n",
              "3421080    626363      206209  ...      NaN            NaN\n",
              "3421081   2977660      206209  ...      NaN            NaN\n",
              "3421082    272231      206209  ...      NaN            NaN\n",
              "\n",
              "[3421083 rows x 10 columns]"
            ]
          },
          "metadata": {
            "tags": []
          },
          "execution_count": 37
        }
      ]
    },
    {
      "cell_type": "code",
      "metadata": {
        "id": "PaF62xUVxgzJ",
        "colab_type": "code",
        "colab": {
          "base_uri": "https://localhost:8080/",
          "height": 230
        },
        "outputId": "6fb4d135-0392-4178-eba0-2fc6db558232"
      },
      "source": [
        "merged['product_id'].mode(10)"
      ],
      "execution_count": 40,
      "outputs": [
        {
          "output_type": "execute_result",
          "data": {
            "text/plain": [
              "0          210\n",
              "1          310\n",
              "2          313\n",
              "3          690\n",
              "4          786\n",
              "         ...  \n",
              "1369    205483\n",
              "1370    205543\n",
              "1371    205878\n",
              "1372    205972\n",
              "1373    206105\n",
              "Length: 1374, dtype: int64"
            ]
          },
          "metadata": {
            "tags": []
          },
          "execution_count": 40
        }
      ]
    },
    {
      "cell_type": "code",
      "metadata": {
        "id": "JJghb2kLyLmD",
        "colab_type": "code",
        "colab": {
          "base_uri": "https://localhost:8080/",
          "height": 413
        },
        "outputId": "dee8c7c5-da6b-465c-d980-7e4b17869f73"
      },
      "source": [
        "cols = ['product_id', 'product_name']\n",
        "merged = merged[cols]\n",
        "merged"
      ],
      "execution_count": 44,
      "outputs": [
        {
          "output_type": "execute_result",
          "data": {
            "text/html": [
              "<div>\n",
              "<style scoped>\n",
              "    .dataframe tbody tr th:only-of-type {\n",
              "        vertical-align: middle;\n",
              "    }\n",
              "\n",
              "    .dataframe tbody tr th {\n",
              "        vertical-align: top;\n",
              "    }\n",
              "\n",
              "    .dataframe thead th {\n",
              "        text-align: right;\n",
              "    }\n",
              "</style>\n",
              "<table border=\"1\" class=\"dataframe\">\n",
              "  <thead>\n",
              "    <tr style=\"text-align: right;\">\n",
              "      <th></th>\n",
              "      <th>product_id</th>\n",
              "      <th>product_name</th>\n",
              "    </tr>\n",
              "  </thead>\n",
              "  <tbody>\n",
              "    <tr>\n",
              "      <th>0</th>\n",
              "      <td>1</td>\n",
              "      <td>Chocolate Sandwich Cookies</td>\n",
              "    </tr>\n",
              "    <tr>\n",
              "      <th>1</th>\n",
              "      <td>1</td>\n",
              "      <td>Chocolate Sandwich Cookies</td>\n",
              "    </tr>\n",
              "    <tr>\n",
              "      <th>2</th>\n",
              "      <td>1</td>\n",
              "      <td>Chocolate Sandwich Cookies</td>\n",
              "    </tr>\n",
              "    <tr>\n",
              "      <th>3</th>\n",
              "      <td>1</td>\n",
              "      <td>Chocolate Sandwich Cookies</td>\n",
              "    </tr>\n",
              "    <tr>\n",
              "      <th>4</th>\n",
              "      <td>1</td>\n",
              "      <td>Chocolate Sandwich Cookies</td>\n",
              "    </tr>\n",
              "    <tr>\n",
              "      <th>...</th>\n",
              "      <td>...</td>\n",
              "      <td>...</td>\n",
              "    </tr>\n",
              "    <tr>\n",
              "      <th>3421078</th>\n",
              "      <td>206209</td>\n",
              "      <td>NaN</td>\n",
              "    </tr>\n",
              "    <tr>\n",
              "      <th>3421079</th>\n",
              "      <td>206209</td>\n",
              "      <td>NaN</td>\n",
              "    </tr>\n",
              "    <tr>\n",
              "      <th>3421080</th>\n",
              "      <td>206209</td>\n",
              "      <td>NaN</td>\n",
              "    </tr>\n",
              "    <tr>\n",
              "      <th>3421081</th>\n",
              "      <td>206209</td>\n",
              "      <td>NaN</td>\n",
              "    </tr>\n",
              "    <tr>\n",
              "      <th>3421082</th>\n",
              "      <td>206209</td>\n",
              "      <td>NaN</td>\n",
              "    </tr>\n",
              "  </tbody>\n",
              "</table>\n",
              "<p>3421083 rows × 2 columns</p>\n",
              "</div>"
            ],
            "text/plain": [
              "         product_id                product_name\n",
              "0                 1  Chocolate Sandwich Cookies\n",
              "1                 1  Chocolate Sandwich Cookies\n",
              "2                 1  Chocolate Sandwich Cookies\n",
              "3                 1  Chocolate Sandwich Cookies\n",
              "4                 1  Chocolate Sandwich Cookies\n",
              "...             ...                         ...\n",
              "3421078      206209                         NaN\n",
              "3421079      206209                         NaN\n",
              "3421080      206209                         NaN\n",
              "3421081      206209                         NaN\n",
              "3421082      206209                         NaN\n",
              "\n",
              "[3421083 rows x 2 columns]"
            ]
          },
          "metadata": {
            "tags": []
          },
          "execution_count": 44
        }
      ]
    },
    {
      "cell_type": "code",
      "metadata": {
        "id": "Of3dl9eW0MI6",
        "colab_type": "code",
        "colab": {
          "base_uri": "https://localhost:8080/",
          "height": 230
        },
        "outputId": "e66b314a-4ff1-4a0a-ef59-926c3b9ba27d"
      },
      "source": [
        "merged['product_name'].value_counts"
      ],
      "execution_count": 51,
      "outputs": [
        {
          "output_type": "execute_result",
          "data": {
            "text/plain": [
              "Stainless Steel Grater                           100\n",
              "Passionfruit Papaya Tea Bags                     100\n",
              "California Style Marinated Artichoke Hearts      100\n",
              "Dark Chocolate Mint Cups                         100\n",
              "Wild Blueberry Scone Mox                         100\n",
              "                                                ... \n",
              "Aged Cheddar                                       4\n",
              "Chewy Chocolate Chip                               4\n",
              "2nd Foods Peas                                     4\n",
              "G Series Orange Sports Drink                       4\n",
              "Organic Mini Sandwich Crackers Cheddar Cheese      4\n",
              "Name: product_name, Length: 49688, dtype: int64"
            ]
          },
          "metadata": {
            "tags": []
          },
          "execution_count": 51
        }
      ]
    },
    {
      "cell_type": "code",
      "metadata": {
        "id": "idOmwr7W4Voc",
        "colab_type": "code",
        "colab": {
          "base_uri": "https://localhost:8080/",
          "height": 124
        },
        "outputId": "6ad33442-58de-45f9-e3b9-35ef184eca91"
      },
      "source": [
        "print (merged[merged.product_name == 'Banana'])"
      ],
      "execution_count": 54,
      "outputs": [
        {
          "output_type": "stream",
          "text": [
            "        product_id product_name\n",
            "412896       24852       Banana\n",
            "412897       24852       Banana\n",
            "412898       24852       Banana\n",
            "412899       24852       Banana\n",
            "412900       24852       Banana\n"
          ],
          "name": "stdout"
        }
      ]
    },
    {
      "cell_type": "code",
      "metadata": {
        "id": "FEs0HPOQ4m4t",
        "colab_type": "code",
        "colab": {
          "base_uri": "https://localhost:8080/",
          "height": 444
        },
        "outputId": "5b0ecef5-5f2d-4328-90be-6033f7f2722f"
      },
      "source": [
        "print (merged[merged.product_name == 'Bag of Organic Bananas'])"
      ],
      "execution_count": 58,
      "outputs": [
        {
          "output_type": "stream",
          "text": [
            "        product_id            product_name\n",
            "218034       13176  Bag of Organic Bananas\n",
            "218035       13176  Bag of Organic Bananas\n",
            "218036       13176  Bag of Organic Bananas\n",
            "218037       13176  Bag of Organic Bananas\n",
            "218038       13176  Bag of Organic Bananas\n",
            "218039       13176  Bag of Organic Bananas\n",
            "218040       13176  Bag of Organic Bananas\n",
            "218041       13176  Bag of Organic Bananas\n",
            "218042       13176  Bag of Organic Bananas\n",
            "218043       13176  Bag of Organic Bananas\n",
            "218044       13176  Bag of Organic Bananas\n",
            "218045       13176  Bag of Organic Bananas\n",
            "218046       13176  Bag of Organic Bananas\n",
            "218047       13176  Bag of Organic Bananas\n",
            "218048       13176  Bag of Organic Bananas\n",
            "218049       13176  Bag of Organic Bananas\n",
            "218050       13176  Bag of Organic Bananas\n",
            "218051       13176  Bag of Organic Bananas\n",
            "218052       13176  Bag of Organic Bananas\n",
            "218053       13176  Bag of Organic Bananas\n",
            "218054       13176  Bag of Organic Bananas\n",
            "218055       13176  Bag of Organic Bananas\n",
            "218056       13176  Bag of Organic Bananas\n"
          ],
          "name": "stdout"
        }
      ]
    },
    {
      "cell_type": "code",
      "metadata": {
        "id": "CwYru4Lg5GU1",
        "colab_type": "code",
        "colab": {
          "base_uri": "https://localhost:8080/",
          "height": 213
        },
        "outputId": "544a8de7-1ff9-4fbc-a57a-60b3a674df9f"
      },
      "source": [
        "print (merged[merged.product_name == 'Organic Strawberries'])"
      ],
      "execution_count": 60,
      "outputs": [
        {
          "output_type": "stream",
          "text": [
            "        product_id          product_name\n",
            "349406       21137  Organic Strawberries\n",
            "349407       21137  Organic Strawberries\n",
            "349408       21137  Organic Strawberries\n",
            "349409       21137  Organic Strawberries\n",
            "349410       21137  Organic Strawberries\n",
            "349411       21137  Organic Strawberries\n",
            "349412       21137  Organic Strawberries\n",
            "349413       21137  Organic Strawberries\n",
            "349414       21137  Organic Strawberries\n",
            "349415       21137  Organic Strawberries\n"
          ],
          "name": "stdout"
        }
      ]
    },
    {
      "cell_type": "code",
      "metadata": {
        "id": "w8mV6HgU5PkZ",
        "colab_type": "code",
        "colab": {
          "base_uri": "https://localhost:8080/",
          "height": 124
        },
        "outputId": "77240abe-de5a-4109-8bcb-9a05022feff9"
      },
      "source": [
        "print (merged[merged.product_name == 'Organic Baby Spinach'])"
      ],
      "execution_count": 62,
      "outputs": [
        {
          "output_type": "stream",
          "text": [
            "        product_id          product_name\n",
            "362406       21903  Organic Baby Spinach\n",
            "362407       21903  Organic Baby Spinach\n",
            "362408       21903  Organic Baby Spinach\n",
            "362409       21903  Organic Baby Spinach\n",
            "362410       21903  Organic Baby Spinach\n"
          ],
          "name": "stdout"
        }
      ]
    },
    {
      "cell_type": "code",
      "metadata": {
        "id": "n4N1Xwfr5XwV",
        "colab_type": "code",
        "colab": {
          "base_uri": "https://localhost:8080/",
          "height": 141
        },
        "outputId": "d41efc35-fdcb-4645-cfe4-9fdeef98423d"
      },
      "source": [
        "print (merged[merged.product_name == 'Organic Hass Avocado'])"
      ],
      "execution_count": 65,
      "outputs": [
        {
          "output_type": "stream",
          "text": [
            "        product_id          product_name\n",
            "785128       47209  Organic Hass Avocado\n",
            "785129       47209  Organic Hass Avocado\n",
            "785130       47209  Organic Hass Avocado\n",
            "785131       47209  Organic Hass Avocado\n",
            "785132       47209  Organic Hass Avocado\n",
            "785133       47209  Organic Hass Avocado\n"
          ],
          "name": "stdout"
        }
      ]
    },
    {
      "cell_type": "code",
      "metadata": {
        "id": "KdT3G__K5tqn",
        "colab_type": "code",
        "colab": {
          "base_uri": "https://localhost:8080/",
          "height": 213
        },
        "outputId": "6342cc66-5c30-40bd-9c4c-0b4215c6b040"
      },
      "source": [
        "print (merged[merged.product_name == 'Organic Avocado'])"
      ],
      "execution_count": 67,
      "outputs": [
        {
          "output_type": "stream",
          "text": [
            "        product_id     product_name\n",
            "794399       47766  Organic Avocado\n",
            "794400       47766  Organic Avocado\n",
            "794401       47766  Organic Avocado\n",
            "794402       47766  Organic Avocado\n",
            "794403       47766  Organic Avocado\n",
            "794404       47766  Organic Avocado\n",
            "794405       47766  Organic Avocado\n",
            "794406       47766  Organic Avocado\n",
            "794407       47766  Organic Avocado\n",
            "794408       47766  Organic Avocado\n"
          ],
          "name": "stdout"
        }
      ]
    },
    {
      "cell_type": "code",
      "metadata": {
        "id": "5wQOLZIH511f",
        "colab_type": "code",
        "colab": {
          "base_uri": "https://localhost:8080/",
          "height": 213
        },
        "outputId": "6d02c047-90d8-496f-8a09-b6858c5fc971"
      },
      "source": [
        "print (merged[merged.product_name == 'Large Lemon'])"
      ],
      "execution_count": 69,
      "outputs": [
        {
          "output_type": "stream",
          "text": [
            "        product_id product_name\n",
            "792056       47626  Large Lemon\n",
            "792057       47626  Large Lemon\n",
            "792058       47626  Large Lemon\n",
            "792059       47626  Large Lemon\n",
            "792060       47626  Large Lemon\n",
            "792061       47626  Large Lemon\n",
            "792062       47626  Large Lemon\n",
            "792063       47626  Large Lemon\n",
            "792064       47626  Large Lemon\n",
            "792065       47626  Large Lemon\n"
          ],
          "name": "stdout"
        }
      ]
    },
    {
      "cell_type": "code",
      "metadata": {
        "id": "rpI9EYRe554l",
        "colab_type": "code",
        "colab": {
          "base_uri": "https://localhost:8080/",
          "height": 657
        },
        "outputId": "7804205d-f0af-4b7d-8bf6-fba94ed58a44"
      },
      "source": [
        "print (merged[merged.product_name == 'Strawberries'])"
      ],
      "execution_count": 71,
      "outputs": [
        {
          "output_type": "stream",
          "text": [
            "        product_id  product_name\n",
            "278117       16797  Strawberries\n",
            "278118       16797  Strawberries\n",
            "278119       16797  Strawberries\n",
            "278120       16797  Strawberries\n",
            "278121       16797  Strawberries\n",
            "278122       16797  Strawberries\n",
            "278123       16797  Strawberries\n",
            "278124       16797  Strawberries\n",
            "278125       16797  Strawberries\n",
            "278126       16797  Strawberries\n",
            "278127       16797  Strawberries\n",
            "278128       16797  Strawberries\n",
            "278129       16797  Strawberries\n",
            "278130       16797  Strawberries\n",
            "278131       16797  Strawberries\n",
            "278132       16797  Strawberries\n",
            "278133       16797  Strawberries\n",
            "278134       16797  Strawberries\n",
            "278135       16797  Strawberries\n",
            "278136       16797  Strawberries\n",
            "278137       16797  Strawberries\n",
            "278138       16797  Strawberries\n",
            "278139       16797  Strawberries\n",
            "278140       16797  Strawberries\n",
            "278141       16797  Strawberries\n",
            "278142       16797  Strawberries\n",
            "278143       16797  Strawberries\n",
            "278144       16797  Strawberries\n",
            "278145       16797  Strawberries\n",
            "278146       16797  Strawberries\n",
            "278147       16797  Strawberries\n",
            "278148       16797  Strawberries\n",
            "278149       16797  Strawberries\n",
            "278150       16797  Strawberries\n",
            "278151       16797  Strawberries\n"
          ],
          "name": "stdout"
        }
      ]
    },
    {
      "cell_type": "code",
      "metadata": {
        "id": "meCPR04k6Ek9",
        "colab_type": "code",
        "colab": {
          "base_uri": "https://localhost:8080/",
          "height": 230
        },
        "outputId": "9280f3cc-a1d7-4173-deb5-c02da44a5fad"
      },
      "source": [
        "print (merged[merged.product_name == 'Limes'])"
      ],
      "execution_count": 81,
      "outputs": [
        {
          "output_type": "stream",
          "text": [
            "        product_id product_name\n",
            "436201       26209        Limes\n",
            "436202       26209        Limes\n",
            "436203       26209        Limes\n",
            "436204       26209        Limes\n",
            "436205       26209        Limes\n",
            "436206       26209        Limes\n",
            "436207       26209        Limes\n",
            "436208       26209        Limes\n",
            "436209       26209        Limes\n",
            "436210       26209        Limes\n",
            "436211       26209        Limes\n"
          ],
          "name": "stdout"
        }
      ]
    },
    {
      "cell_type": "code",
      "metadata": {
        "id": "DfxQjIBC6I2l",
        "colab_type": "code",
        "colab": {
          "base_uri": "https://localhost:8080/",
          "height": 266
        },
        "outputId": "25540658-01c3-4e7b-d5a6-2601737c4cf0"
      },
      "source": [
        "print (merged[merged.product_name == 'Organic Whole Milk'])"
      ],
      "execution_count": 75,
      "outputs": [
        {
          "output_type": "stream",
          "text": [
            "        product_id        product_name\n",
            "462458       27845  Organic Whole Milk\n",
            "462459       27845  Organic Whole Milk\n",
            "462460       27845  Organic Whole Milk\n",
            "462461       27845  Organic Whole Milk\n",
            "462462       27845  Organic Whole Milk\n",
            "462463       27845  Organic Whole Milk\n",
            "462464       27845  Organic Whole Milk\n",
            "462465       27845  Organic Whole Milk\n",
            "462466       27845  Organic Whole Milk\n",
            "462467       27845  Organic Whole Milk\n",
            "462468       27845  Organic Whole Milk\n",
            "462469       27845  Organic Whole Milk\n",
            "462470       27845  Organic Whole Milk\n"
          ],
          "name": "stdout"
        }
      ]
    },
    {
      "cell_type": "code",
      "metadata": {
        "id": "oiAYuvKS6zOT",
        "colab_type": "code",
        "colab": {
          "base_uri": "https://localhost:8080/",
          "height": 195
        },
        "outputId": "3604051c-1af7-4e4f-cfcc-1c38873e04f1"
      },
      "source": [
        "n = 10\n",
        "merged['product_name'].value_counts()[:n].index.tolist()\n",
        "\n"
      ],
      "execution_count": 82,
      "outputs": [
        {
          "output_type": "execute_result",
          "data": {
            "text/plain": [
              "['Stainless Steel Grater',\n",
              " 'Passionfruit Papaya Tea Bags',\n",
              " 'California Style Marinated Artichoke Hearts',\n",
              " 'Dark Chocolate Mint Cups',\n",
              " 'Wild Blueberry Scone Mox',\n",
              " 'Goat Milk Mozzarella',\n",
              " 'Grated Parmesan',\n",
              " 'Shrimp Ceviche',\n",
              " 'Sparkling Clementine Juice',\n",
              " 'Mighty Pacs Laundry Detergent']"
            ]
          },
          "metadata": {
            "tags": []
          },
          "execution_count": 82
        }
      ]
    },
    {
      "cell_type": "code",
      "metadata": {
        "id": "qdenNERVEmGN",
        "colab_type": "code",
        "colab": {
          "base_uri": "https://localhost:8080/",
          "height": 230
        },
        "outputId": "bc4bc75b-97ed-41cc-dd06-434cd2a0de32"
      },
      "source": [
        "merged['product_name'].value_counts()"
      ],
      "execution_count": 83,
      "outputs": [
        {
          "output_type": "execute_result",
          "data": {
            "text/plain": [
              "Stainless Steel Grater                           100\n",
              "Passionfruit Papaya Tea Bags                     100\n",
              "California Style Marinated Artichoke Hearts      100\n",
              "Dark Chocolate Mint Cups                         100\n",
              "Wild Blueberry Scone Mox                         100\n",
              "                                                ... \n",
              "Aged Cheddar                                       4\n",
              "Chewy Chocolate Chip                               4\n",
              "2nd Foods Peas                                     4\n",
              "G Series Orange Sports Drink                       4\n",
              "Organic Mini Sandwich Crackers Cheddar Cheese      4\n",
              "Name: product_name, Length: 49688, dtype: int64"
            ]
          },
          "metadata": {
            "tags": []
          },
          "execution_count": 83
        }
      ]
    },
    {
      "cell_type": "markdown",
      "metadata": {
        "id": "RsiWi4DuXPLP",
        "colab_type": "text"
      },
      "source": [
        "## Reshape Data Section\n",
        "\n",
        "- Replicate the lesson code\n",
        "- Complete the code cells we skipped near the beginning of the notebook\n",
        "- Table 2 --> Tidy\n",
        "- Tidy --> Table 2\n",
        "- Load seaborn's `flights` dataset by running the cell below. Then create a pivot table showing the number of passengers by month and year. Use year for the index and month for the columns. You've done it right if you get 112 passengers for January 1949 and 432 passengers for December 1960."
      ]
    },
    {
      "cell_type": "code",
      "metadata": {
        "id": "UI6_CvvBxfdA",
        "colab_type": "code",
        "colab": {}
      },
      "source": [
        ""
      ],
      "execution_count": 0,
      "outputs": []
    },
    {
      "cell_type": "code",
      "metadata": {
        "id": "fgxulJQq0uLw",
        "colab_type": "code",
        "colab": {}
      },
      "source": [
        "flights = sns.load_dataset('flights')"
      ],
      "execution_count": 0,
      "outputs": []
    },
    {
      "cell_type": "code",
      "metadata": {
        "id": "1qKc88WI0up-",
        "colab_type": "code",
        "colab": {}
      },
      "source": [
        "##### YOUR CODE HERE #####"
      ],
      "execution_count": 0,
      "outputs": []
    },
    {
      "cell_type": "markdown",
      "metadata": {
        "id": "mnOuqL9K0dqh",
        "colab_type": "text"
      },
      "source": [
        "## Join Data Stretch Challenge\n",
        "\n",
        "The [Instacart blog post](https://tech.instacart.com/3-million-instacart-orders-open-sourced-d40d29ead6f2) has a visualization of \"**Popular products** purchased earliest in the day (green) and latest in the day (red).\" \n",
        "\n",
        "The post says,\n",
        "\n",
        "> \"We can also see the time of day that users purchase specific products.\n",
        "\n",
        "> Healthier snacks and staples tend to be purchased earlier in the day, whereas ice cream (especially Half Baked and The Tonight Dough) are far more popular when customers are ordering in the evening.\n",
        "\n",
        "> **In fact, of the top 25 latest ordered products, the first 24 are ice cream! The last one, of course, is a frozen pizza.**\"\n",
        "\n",
        "Your challenge is to reproduce the list of the top 25 latest ordered popular products.\n",
        "\n",
        "We'll define \"popular products\" as products with more than 2,900 orders.\n",
        "\n"
      ]
    },
    {
      "cell_type": "code",
      "metadata": {
        "id": "B-QNMrVkYap4",
        "colab_type": "code",
        "colab": {}
      },
      "source": [
        "##### YOUR CODE HERE #####"
      ],
      "execution_count": 0,
      "outputs": []
    },
    {
      "cell_type": "markdown",
      "metadata": {
        "id": "Ij8S60q0YXxo",
        "colab_type": "text"
      },
      "source": [
        "## Reshape Data Stretch Challenge\n",
        "\n",
        "_Try whatever sounds most interesting to you!_\n",
        "\n",
        "- Replicate more of Instacart's visualization showing \"Hour of Day Ordered\" vs \"Percent of Orders by Product\"\n",
        "- Replicate parts of the other visualization from [Instacart's blog post](https://tech.instacart.com/3-million-instacart-orders-open-sourced-d40d29ead6f2), showing \"Number of Purchases\" vs \"Percent Reorder Purchases\"\n",
        "- Get the most recent order for each user in Instacart's dataset. This is a useful baseline when [predicting a user's next order](https://www.kaggle.com/c/instacart-market-basket-analysis)\n",
        "- Replicate parts of the blog post linked at the top of this notebook: [Modern Pandas, Part 5: Tidy Data](https://tomaugspurger.github.io/modern-5-tidy.html)"
      ]
    },
    {
      "cell_type": "code",
      "metadata": {
        "id": "_d6IA2R0YXFY",
        "colab_type": "code",
        "colab": {}
      },
      "source": [
        "##### YOUR CODE HERE #####"
      ],
      "execution_count": 0,
      "outputs": []
    }
  ]
}